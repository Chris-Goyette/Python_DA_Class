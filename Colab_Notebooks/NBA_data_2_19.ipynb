{
  "cells": [
    {
      "cell_type": "markdown",
      "metadata": {
        "id": "RGxXVHzYUMR6"
      },
      "source": [
        "Data source -> https://www.kaggle.com/datasets/justinas/nba-players-data/data"
      ]
    },
    {
      "cell_type": "code",
      "execution_count": 3,
      "metadata": {
        "colab": {
          "base_uri": "https://localhost:8080/"
        },
        "id": "5XdGspFTcsJA",
        "outputId": "e10b4e61-e92b-413b-b426-5100e1c1a976"
      },
      "outputs": [
        {
          "data": {
            "text/html": [
              "<div>\n",
              "<style scoped>\n",
              "    .dataframe tbody tr th:only-of-type {\n",
              "        vertical-align: middle;\n",
              "    }\n",
              "\n",
              "    .dataframe tbody tr th {\n",
              "        vertical-align: top;\n",
              "    }\n",
              "\n",
              "    .dataframe thead th {\n",
              "        text-align: right;\n",
              "    }\n",
              "</style>\n",
              "<table border=\"1\" class=\"dataframe\">\n",
              "  <thead>\n",
              "    <tr style=\"text-align: right;\">\n",
              "      <th></th>\n",
              "      <th>Unnamed: 0</th>\n",
              "      <th>player_name</th>\n",
              "      <th>team_abbreviation</th>\n",
              "      <th>age</th>\n",
              "      <th>player_height</th>\n",
              "      <th>player_weight</th>\n",
              "      <th>college</th>\n",
              "      <th>country</th>\n",
              "      <th>draft_year</th>\n",
              "      <th>draft_round</th>\n",
              "      <th>...</th>\n",
              "      <th>pts</th>\n",
              "      <th>reb</th>\n",
              "      <th>ast</th>\n",
              "      <th>net_rating</th>\n",
              "      <th>oreb_pct</th>\n",
              "      <th>dreb_pct</th>\n",
              "      <th>usg_pct</th>\n",
              "      <th>ts_pct</th>\n",
              "      <th>ast_pct</th>\n",
              "      <th>season</th>\n",
              "    </tr>\n",
              "  </thead>\n",
              "  <tbody>\n",
              "    <tr>\n",
              "      <th>0</th>\n",
              "      <td>0</td>\n",
              "      <td>Randy Livingston</td>\n",
              "      <td>HOU</td>\n",
              "      <td>22.0</td>\n",
              "      <td>193.04</td>\n",
              "      <td>94.800728</td>\n",
              "      <td>Louisiana State</td>\n",
              "      <td>USA</td>\n",
              "      <td>1996</td>\n",
              "      <td>2</td>\n",
              "      <td>...</td>\n",
              "      <td>3.9</td>\n",
              "      <td>1.5</td>\n",
              "      <td>2.4</td>\n",
              "      <td>0.3</td>\n",
              "      <td>0.042</td>\n",
              "      <td>0.071</td>\n",
              "      <td>0.169</td>\n",
              "      <td>0.487</td>\n",
              "      <td>0.248</td>\n",
              "      <td>1996-97</td>\n",
              "    </tr>\n",
              "    <tr>\n",
              "      <th>1</th>\n",
              "      <td>1</td>\n",
              "      <td>Gaylon Nickerson</td>\n",
              "      <td>WAS</td>\n",
              "      <td>28.0</td>\n",
              "      <td>190.50</td>\n",
              "      <td>86.182480</td>\n",
              "      <td>Northwestern Oklahoma</td>\n",
              "      <td>USA</td>\n",
              "      <td>1994</td>\n",
              "      <td>2</td>\n",
              "      <td>...</td>\n",
              "      <td>3.8</td>\n",
              "      <td>1.3</td>\n",
              "      <td>0.3</td>\n",
              "      <td>8.9</td>\n",
              "      <td>0.030</td>\n",
              "      <td>0.111</td>\n",
              "      <td>0.174</td>\n",
              "      <td>0.497</td>\n",
              "      <td>0.043</td>\n",
              "      <td>1996-97</td>\n",
              "    </tr>\n",
              "    <tr>\n",
              "      <th>2</th>\n",
              "      <td>2</td>\n",
              "      <td>George Lynch</td>\n",
              "      <td>VAN</td>\n",
              "      <td>26.0</td>\n",
              "      <td>203.20</td>\n",
              "      <td>103.418976</td>\n",
              "      <td>North Carolina</td>\n",
              "      <td>USA</td>\n",
              "      <td>1993</td>\n",
              "      <td>1</td>\n",
              "      <td>...</td>\n",
              "      <td>8.3</td>\n",
              "      <td>6.4</td>\n",
              "      <td>1.9</td>\n",
              "      <td>-8.2</td>\n",
              "      <td>0.106</td>\n",
              "      <td>0.185</td>\n",
              "      <td>0.175</td>\n",
              "      <td>0.512</td>\n",
              "      <td>0.125</td>\n",
              "      <td>1996-97</td>\n",
              "    </tr>\n",
              "    <tr>\n",
              "      <th>3</th>\n",
              "      <td>3</td>\n",
              "      <td>George McCloud</td>\n",
              "      <td>LAL</td>\n",
              "      <td>30.0</td>\n",
              "      <td>203.20</td>\n",
              "      <td>102.058200</td>\n",
              "      <td>Florida State</td>\n",
              "      <td>USA</td>\n",
              "      <td>1989</td>\n",
              "      <td>1</td>\n",
              "      <td>...</td>\n",
              "      <td>10.2</td>\n",
              "      <td>2.8</td>\n",
              "      <td>1.7</td>\n",
              "      <td>-2.7</td>\n",
              "      <td>0.027</td>\n",
              "      <td>0.111</td>\n",
              "      <td>0.206</td>\n",
              "      <td>0.527</td>\n",
              "      <td>0.125</td>\n",
              "      <td>1996-97</td>\n",
              "    </tr>\n",
              "    <tr>\n",
              "      <th>4</th>\n",
              "      <td>4</td>\n",
              "      <td>George Zidek</td>\n",
              "      <td>DEN</td>\n",
              "      <td>23.0</td>\n",
              "      <td>213.36</td>\n",
              "      <td>119.748288</td>\n",
              "      <td>UCLA</td>\n",
              "      <td>USA</td>\n",
              "      <td>1995</td>\n",
              "      <td>1</td>\n",
              "      <td>...</td>\n",
              "      <td>2.8</td>\n",
              "      <td>1.7</td>\n",
              "      <td>0.3</td>\n",
              "      <td>-14.1</td>\n",
              "      <td>0.102</td>\n",
              "      <td>0.169</td>\n",
              "      <td>0.195</td>\n",
              "      <td>0.500</td>\n",
              "      <td>0.064</td>\n",
              "      <td>1996-97</td>\n",
              "    </tr>\n",
              "    <tr>\n",
              "      <th>...</th>\n",
              "      <td>...</td>\n",
              "      <td>...</td>\n",
              "      <td>...</td>\n",
              "      <td>...</td>\n",
              "      <td>...</td>\n",
              "      <td>...</td>\n",
              "      <td>...</td>\n",
              "      <td>...</td>\n",
              "      <td>...</td>\n",
              "      <td>...</td>\n",
              "      <td>...</td>\n",
              "      <td>...</td>\n",
              "      <td>...</td>\n",
              "      <td>...</td>\n",
              "      <td>...</td>\n",
              "      <td>...</td>\n",
              "      <td>...</td>\n",
              "      <td>...</td>\n",
              "      <td>...</td>\n",
              "      <td>...</td>\n",
              "      <td>...</td>\n",
              "    </tr>\n",
              "    <tr>\n",
              "      <th>12839</th>\n",
              "      <td>12839</td>\n",
              "      <td>Joel Embiid</td>\n",
              "      <td>PHI</td>\n",
              "      <td>29.0</td>\n",
              "      <td>213.36</td>\n",
              "      <td>127.005760</td>\n",
              "      <td>Kansas</td>\n",
              "      <td>Cameroon</td>\n",
              "      <td>2014</td>\n",
              "      <td>1</td>\n",
              "      <td>...</td>\n",
              "      <td>33.1</td>\n",
              "      <td>10.2</td>\n",
              "      <td>4.2</td>\n",
              "      <td>8.8</td>\n",
              "      <td>0.057</td>\n",
              "      <td>0.243</td>\n",
              "      <td>0.370</td>\n",
              "      <td>0.655</td>\n",
              "      <td>0.233</td>\n",
              "      <td>2022-23</td>\n",
              "    </tr>\n",
              "    <tr>\n",
              "      <th>12840</th>\n",
              "      <td>12840</td>\n",
              "      <td>John Butler Jr.</td>\n",
              "      <td>POR</td>\n",
              "      <td>20.0</td>\n",
              "      <td>213.36</td>\n",
              "      <td>86.182480</td>\n",
              "      <td>Florida State</td>\n",
              "      <td>USA</td>\n",
              "      <td>Undrafted</td>\n",
              "      <td>Undrafted</td>\n",
              "      <td>...</td>\n",
              "      <td>2.4</td>\n",
              "      <td>0.9</td>\n",
              "      <td>0.6</td>\n",
              "      <td>-16.1</td>\n",
              "      <td>0.012</td>\n",
              "      <td>0.065</td>\n",
              "      <td>0.102</td>\n",
              "      <td>0.411</td>\n",
              "      <td>0.066</td>\n",
              "      <td>2022-23</td>\n",
              "    </tr>\n",
              "    <tr>\n",
              "      <th>12841</th>\n",
              "      <td>12841</td>\n",
              "      <td>John Collins</td>\n",
              "      <td>ATL</td>\n",
              "      <td>25.0</td>\n",
              "      <td>205.74</td>\n",
              "      <td>102.511792</td>\n",
              "      <td>Wake Forest</td>\n",
              "      <td>USA</td>\n",
              "      <td>2017</td>\n",
              "      <td>1</td>\n",
              "      <td>...</td>\n",
              "      <td>13.1</td>\n",
              "      <td>6.5</td>\n",
              "      <td>1.2</td>\n",
              "      <td>-0.2</td>\n",
              "      <td>0.035</td>\n",
              "      <td>0.180</td>\n",
              "      <td>0.168</td>\n",
              "      <td>0.593</td>\n",
              "      <td>0.052</td>\n",
              "      <td>2022-23</td>\n",
              "    </tr>\n",
              "    <tr>\n",
              "      <th>12842</th>\n",
              "      <td>12842</td>\n",
              "      <td>Jericho Sims</td>\n",
              "      <td>NYK</td>\n",
              "      <td>24.0</td>\n",
              "      <td>208.28</td>\n",
              "      <td>113.398000</td>\n",
              "      <td>Texas</td>\n",
              "      <td>USA</td>\n",
              "      <td>2021</td>\n",
              "      <td>2</td>\n",
              "      <td>...</td>\n",
              "      <td>3.4</td>\n",
              "      <td>4.7</td>\n",
              "      <td>0.5</td>\n",
              "      <td>-6.7</td>\n",
              "      <td>0.117</td>\n",
              "      <td>0.175</td>\n",
              "      <td>0.074</td>\n",
              "      <td>0.780</td>\n",
              "      <td>0.044</td>\n",
              "      <td>2022-23</td>\n",
              "    </tr>\n",
              "    <tr>\n",
              "      <th>12843</th>\n",
              "      <td>12843</td>\n",
              "      <td>JaMychal Green</td>\n",
              "      <td>GSW</td>\n",
              "      <td>33.0</td>\n",
              "      <td>205.74</td>\n",
              "      <td>102.965384</td>\n",
              "      <td>Alabama</td>\n",
              "      <td>USA</td>\n",
              "      <td>Undrafted</td>\n",
              "      <td>Undrafted</td>\n",
              "      <td>...</td>\n",
              "      <td>6.4</td>\n",
              "      <td>3.6</td>\n",
              "      <td>0.9</td>\n",
              "      <td>-8.2</td>\n",
              "      <td>0.087</td>\n",
              "      <td>0.164</td>\n",
              "      <td>0.169</td>\n",
              "      <td>0.650</td>\n",
              "      <td>0.094</td>\n",
              "      <td>2022-23</td>\n",
              "    </tr>\n",
              "  </tbody>\n",
              "</table>\n",
              "<p>12844 rows × 22 columns</p>\n",
              "</div>"
            ],
            "text/plain": [
              "       Unnamed: 0       player_name team_abbreviation   age  player_height  \\\n",
              "0               0  Randy Livingston               HOU  22.0         193.04   \n",
              "1               1  Gaylon Nickerson               WAS  28.0         190.50   \n",
              "2               2      George Lynch               VAN  26.0         203.20   \n",
              "3               3    George McCloud               LAL  30.0         203.20   \n",
              "4               4      George Zidek               DEN  23.0         213.36   \n",
              "...           ...               ...               ...   ...            ...   \n",
              "12839       12839       Joel Embiid               PHI  29.0         213.36   \n",
              "12840       12840   John Butler Jr.               POR  20.0         213.36   \n",
              "12841       12841      John Collins               ATL  25.0         205.74   \n",
              "12842       12842      Jericho Sims               NYK  24.0         208.28   \n",
              "12843       12843    JaMychal Green               GSW  33.0         205.74   \n",
              "\n",
              "       player_weight                college   country draft_year draft_round  \\\n",
              "0          94.800728        Louisiana State       USA       1996           2   \n",
              "1          86.182480  Northwestern Oklahoma       USA       1994           2   \n",
              "2         103.418976         North Carolina       USA       1993           1   \n",
              "3         102.058200          Florida State       USA       1989           1   \n",
              "4         119.748288                   UCLA       USA       1995           1   \n",
              "...              ...                    ...       ...        ...         ...   \n",
              "12839     127.005760                 Kansas  Cameroon       2014           1   \n",
              "12840      86.182480          Florida State       USA  Undrafted   Undrafted   \n",
              "12841     102.511792            Wake Forest       USA       2017           1   \n",
              "12842     113.398000                  Texas       USA       2021           2   \n",
              "12843     102.965384                Alabama       USA  Undrafted   Undrafted   \n",
              "\n",
              "       ...   pts   reb  ast  net_rating  oreb_pct  dreb_pct  usg_pct  ts_pct  \\\n",
              "0      ...   3.9   1.5  2.4         0.3     0.042     0.071    0.169   0.487   \n",
              "1      ...   3.8   1.3  0.3         8.9     0.030     0.111    0.174   0.497   \n",
              "2      ...   8.3   6.4  1.9        -8.2     0.106     0.185    0.175   0.512   \n",
              "3      ...  10.2   2.8  1.7        -2.7     0.027     0.111    0.206   0.527   \n",
              "4      ...   2.8   1.7  0.3       -14.1     0.102     0.169    0.195   0.500   \n",
              "...    ...   ...   ...  ...         ...       ...       ...      ...     ...   \n",
              "12839  ...  33.1  10.2  4.2         8.8     0.057     0.243    0.370   0.655   \n",
              "12840  ...   2.4   0.9  0.6       -16.1     0.012     0.065    0.102   0.411   \n",
              "12841  ...  13.1   6.5  1.2        -0.2     0.035     0.180    0.168   0.593   \n",
              "12842  ...   3.4   4.7  0.5        -6.7     0.117     0.175    0.074   0.780   \n",
              "12843  ...   6.4   3.6  0.9        -8.2     0.087     0.164    0.169   0.650   \n",
              "\n",
              "       ast_pct   season  \n",
              "0        0.248  1996-97  \n",
              "1        0.043  1996-97  \n",
              "2        0.125  1996-97  \n",
              "3        0.125  1996-97  \n",
              "4        0.064  1996-97  \n",
              "...        ...      ...  \n",
              "12839    0.233  2022-23  \n",
              "12840    0.066  2022-23  \n",
              "12841    0.052  2022-23  \n",
              "12842    0.044  2022-23  \n",
              "12843    0.094  2022-23  \n",
              "\n",
              "[12844 rows x 22 columns]"
            ]
          },
          "execution_count": 3,
          "metadata": {},
          "output_type": "execute_result"
        }
      ],
      "source": [
        "# access my data\n",
        "import pandas as pd\n",
        "\n",
        "file_path = '/Users/chrisgoyette/Python_DA_Class/data/all_seasons.csv'\n",
        "\n",
        "df = pd.read_csv(file_path)\n",
        "df\n"
      ]
    },
    {
      "cell_type": "code",
      "execution_count": 15,
      "metadata": {
        "id": "1I7XxmZPeAD3"
      },
      "outputs": [],
      "source": [
        "# Import necessary libraries for data analysis\n",
        "import pandas as pd\n",
        "import numpy as np\n",
        "import matplotlib.pyplot as plt\n",
        "import seaborn as sns"
      ]
    },
    {
      "cell_type": "code",
      "execution_count": 5,
      "metadata": {
        "colab": {
          "base_uri": "https://localhost:8080/"
        },
        "id": "RKjd_-R3kRLb",
        "outputId": "359a92ae-ec25-4cea-b996-90df1f5ba37e"
      },
      "outputs": [
        {
          "data": {
            "text/plain": [
              "(12844, 22)"
            ]
          },
          "execution_count": 5,
          "metadata": {},
          "output_type": "execute_result"
        }
      ],
      "source": [
        "df.shape"
      ]
    },
    {
      "cell_type": "code",
      "execution_count": 6,
      "metadata": {
        "colab": {
          "base_uri": "https://localhost:8080/"
        },
        "id": "5QlfEZvQkSQS",
        "outputId": "c567ee34-5132-4a18-cd1b-3053adddecf4"
      },
      "outputs": [
        {
          "name": "stdout",
          "output_type": "stream",
          "text": [
            "<class 'pandas.core.frame.DataFrame'>\n",
            "RangeIndex: 12844 entries, 0 to 12843\n",
            "Data columns (total 22 columns):\n",
            " #   Column             Non-Null Count  Dtype  \n",
            "---  ------             --------------  -----  \n",
            " 0   Unnamed: 0         12844 non-null  int64  \n",
            " 1   player_name        12844 non-null  object \n",
            " 2   team_abbreviation  12844 non-null  object \n",
            " 3   age                12844 non-null  float64\n",
            " 4   player_height      12844 non-null  float64\n",
            " 5   player_weight      12844 non-null  float64\n",
            " 6   college            10990 non-null  object \n",
            " 7   country            12844 non-null  object \n",
            " 8   draft_year         12844 non-null  object \n",
            " 9   draft_round        12844 non-null  object \n",
            " 10  draft_number       12844 non-null  object \n",
            " 11  gp                 12844 non-null  int64  \n",
            " 12  pts                12844 non-null  float64\n",
            " 13  reb                12844 non-null  float64\n",
            " 14  ast                12844 non-null  float64\n",
            " 15  net_rating         12844 non-null  float64\n",
            " 16  oreb_pct           12844 non-null  float64\n",
            " 17  dreb_pct           12844 non-null  float64\n",
            " 18  usg_pct            12844 non-null  float64\n",
            " 19  ts_pct             12844 non-null  float64\n",
            " 20  ast_pct            12844 non-null  float64\n",
            " 21  season             12844 non-null  object \n",
            "dtypes: float64(12), int64(2), object(8)\n",
            "memory usage: 2.2+ MB\n"
          ]
        }
      ],
      "source": [
        "# Check data types, and null values\n",
        "\n",
        "df.info()"
      ]
    },
    {
      "cell_type": "code",
      "execution_count": null,
      "metadata": {
        "colab": {
          "base_uri": "https://localhost:8080/",
          "height": 634
        },
        "id": "jB98PnRpRpWd",
        "outputId": "a08288e8-6d53-45a4-b91a-6bf0a84ded50"
      },
      "outputs": [],
      "source": [
        "# Make copy of original dataframe in case I need it for any reason\n",
        "original_data = df.copy()\n",
        "original_data"
      ]
    },
    {
      "cell_type": "code",
      "execution_count": 38,
      "metadata": {
        "colab": {
          "base_uri": "https://localhost:8080/"
        },
        "id": "xLKXo9sAejPk",
        "outputId": "e5220fb4-99c3-4147-e906-b2069d7b0320"
      },
      "outputs": [
        {
          "name": "stdout",
          "output_type": "stream",
          "text": [
            "No duplicate rows found in the DataFrame.\n"
          ]
        }
      ],
      "source": [
        "# Check to see if there are any duplicate rows\n",
        "\n",
        "has_duplicates = df.duplicated().any()\n",
        "\n",
        "if has_duplicates:\n",
        "    print(\"There are duplicate rows in the DataFrame.\")\n",
        "else:\n",
        "    print(\"No duplicate rows found in the DataFrame.\")"
      ]
    },
    {
      "cell_type": "code",
      "execution_count": 8,
      "metadata": {
        "id": "m2G10qniUWke"
      },
      "outputs": [],
      "source": [
        "# dropping columns that are irrelevant\n",
        "\n",
        "df = df.drop(columns ='Unnamed: 0')\n"
      ]
    },
    {
      "cell_type": "code",
      "execution_count": 9,
      "metadata": {
        "colab": {
          "base_uri": "https://localhost:8080/",
          "height": 342
        },
        "id": "f_DGPss3WtBJ",
        "outputId": "db1c9973-6800-461b-cfc6-f354cb31a897"
      },
      "outputs": [
        {
          "data": {
            "text/html": [
              "<div>\n",
              "<style scoped>\n",
              "    .dataframe tbody tr th:only-of-type {\n",
              "        vertical-align: middle;\n",
              "    }\n",
              "\n",
              "    .dataframe tbody tr th {\n",
              "        vertical-align: top;\n",
              "    }\n",
              "\n",
              "    .dataframe thead th {\n",
              "        text-align: right;\n",
              "    }\n",
              "</style>\n",
              "<table border=\"1\" class=\"dataframe\">\n",
              "  <thead>\n",
              "    <tr style=\"text-align: right;\">\n",
              "      <th></th>\n",
              "      <th>player_name</th>\n",
              "      <th>team_abbreviation</th>\n",
              "      <th>age</th>\n",
              "      <th>player_height</th>\n",
              "      <th>player_weight</th>\n",
              "      <th>college</th>\n",
              "      <th>country</th>\n",
              "      <th>draft_year</th>\n",
              "      <th>draft_round</th>\n",
              "      <th>draft_number</th>\n",
              "      <th>...</th>\n",
              "      <th>pts</th>\n",
              "      <th>reb</th>\n",
              "      <th>ast</th>\n",
              "      <th>net_rating</th>\n",
              "      <th>oreb_pct</th>\n",
              "      <th>dreb_pct</th>\n",
              "      <th>usg_pct</th>\n",
              "      <th>ts_pct</th>\n",
              "      <th>ast_pct</th>\n",
              "      <th>season</th>\n",
              "    </tr>\n",
              "  </thead>\n",
              "  <tbody>\n",
              "    <tr>\n",
              "      <th>0</th>\n",
              "      <td>Randy Livingston</td>\n",
              "      <td>HOU</td>\n",
              "      <td>22.0</td>\n",
              "      <td>193.04</td>\n",
              "      <td>94.800728</td>\n",
              "      <td>Louisiana State</td>\n",
              "      <td>USA</td>\n",
              "      <td>1996</td>\n",
              "      <td>2</td>\n",
              "      <td>42</td>\n",
              "      <td>...</td>\n",
              "      <td>3.9</td>\n",
              "      <td>1.5</td>\n",
              "      <td>2.4</td>\n",
              "      <td>0.3</td>\n",
              "      <td>0.042</td>\n",
              "      <td>0.071</td>\n",
              "      <td>0.169</td>\n",
              "      <td>0.487</td>\n",
              "      <td>0.248</td>\n",
              "      <td>1996-97</td>\n",
              "    </tr>\n",
              "    <tr>\n",
              "      <th>1</th>\n",
              "      <td>Gaylon Nickerson</td>\n",
              "      <td>WAS</td>\n",
              "      <td>28.0</td>\n",
              "      <td>190.50</td>\n",
              "      <td>86.182480</td>\n",
              "      <td>Northwestern Oklahoma</td>\n",
              "      <td>USA</td>\n",
              "      <td>1994</td>\n",
              "      <td>2</td>\n",
              "      <td>34</td>\n",
              "      <td>...</td>\n",
              "      <td>3.8</td>\n",
              "      <td>1.3</td>\n",
              "      <td>0.3</td>\n",
              "      <td>8.9</td>\n",
              "      <td>0.030</td>\n",
              "      <td>0.111</td>\n",
              "      <td>0.174</td>\n",
              "      <td>0.497</td>\n",
              "      <td>0.043</td>\n",
              "      <td>1996-97</td>\n",
              "    </tr>\n",
              "    <tr>\n",
              "      <th>2</th>\n",
              "      <td>George Lynch</td>\n",
              "      <td>VAN</td>\n",
              "      <td>26.0</td>\n",
              "      <td>203.20</td>\n",
              "      <td>103.418976</td>\n",
              "      <td>North Carolina</td>\n",
              "      <td>USA</td>\n",
              "      <td>1993</td>\n",
              "      <td>1</td>\n",
              "      <td>12</td>\n",
              "      <td>...</td>\n",
              "      <td>8.3</td>\n",
              "      <td>6.4</td>\n",
              "      <td>1.9</td>\n",
              "      <td>-8.2</td>\n",
              "      <td>0.106</td>\n",
              "      <td>0.185</td>\n",
              "      <td>0.175</td>\n",
              "      <td>0.512</td>\n",
              "      <td>0.125</td>\n",
              "      <td>1996-97</td>\n",
              "    </tr>\n",
              "    <tr>\n",
              "      <th>3</th>\n",
              "      <td>George McCloud</td>\n",
              "      <td>LAL</td>\n",
              "      <td>30.0</td>\n",
              "      <td>203.20</td>\n",
              "      <td>102.058200</td>\n",
              "      <td>Florida State</td>\n",
              "      <td>USA</td>\n",
              "      <td>1989</td>\n",
              "      <td>1</td>\n",
              "      <td>7</td>\n",
              "      <td>...</td>\n",
              "      <td>10.2</td>\n",
              "      <td>2.8</td>\n",
              "      <td>1.7</td>\n",
              "      <td>-2.7</td>\n",
              "      <td>0.027</td>\n",
              "      <td>0.111</td>\n",
              "      <td>0.206</td>\n",
              "      <td>0.527</td>\n",
              "      <td>0.125</td>\n",
              "      <td>1996-97</td>\n",
              "    </tr>\n",
              "    <tr>\n",
              "      <th>4</th>\n",
              "      <td>George Zidek</td>\n",
              "      <td>DEN</td>\n",
              "      <td>23.0</td>\n",
              "      <td>213.36</td>\n",
              "      <td>119.748288</td>\n",
              "      <td>UCLA</td>\n",
              "      <td>USA</td>\n",
              "      <td>1995</td>\n",
              "      <td>1</td>\n",
              "      <td>22</td>\n",
              "      <td>...</td>\n",
              "      <td>2.8</td>\n",
              "      <td>1.7</td>\n",
              "      <td>0.3</td>\n",
              "      <td>-14.1</td>\n",
              "      <td>0.102</td>\n",
              "      <td>0.169</td>\n",
              "      <td>0.195</td>\n",
              "      <td>0.500</td>\n",
              "      <td>0.064</td>\n",
              "      <td>1996-97</td>\n",
              "    </tr>\n",
              "  </tbody>\n",
              "</table>\n",
              "<p>5 rows × 21 columns</p>\n",
              "</div>"
            ],
            "text/plain": [
              "        player_name team_abbreviation   age  player_height  player_weight  \\\n",
              "0  Randy Livingston               HOU  22.0         193.04      94.800728   \n",
              "1  Gaylon Nickerson               WAS  28.0         190.50      86.182480   \n",
              "2      George Lynch               VAN  26.0         203.20     103.418976   \n",
              "3    George McCloud               LAL  30.0         203.20     102.058200   \n",
              "4      George Zidek               DEN  23.0         213.36     119.748288   \n",
              "\n",
              "                 college country draft_year draft_round draft_number  ...  \\\n",
              "0        Louisiana State     USA       1996           2           42  ...   \n",
              "1  Northwestern Oklahoma     USA       1994           2           34  ...   \n",
              "2         North Carolina     USA       1993           1           12  ...   \n",
              "3          Florida State     USA       1989           1            7  ...   \n",
              "4                   UCLA     USA       1995           1           22  ...   \n",
              "\n",
              "    pts  reb  ast  net_rating  oreb_pct  dreb_pct  usg_pct  ts_pct  ast_pct  \\\n",
              "0   3.9  1.5  2.4         0.3     0.042     0.071    0.169   0.487    0.248   \n",
              "1   3.8  1.3  0.3         8.9     0.030     0.111    0.174   0.497    0.043   \n",
              "2   8.3  6.4  1.9        -8.2     0.106     0.185    0.175   0.512    0.125   \n",
              "3  10.2  2.8  1.7        -2.7     0.027     0.111    0.206   0.527    0.125   \n",
              "4   2.8  1.7  0.3       -14.1     0.102     0.169    0.195   0.500    0.064   \n",
              "\n",
              "    season  \n",
              "0  1996-97  \n",
              "1  1996-97  \n",
              "2  1996-97  \n",
              "3  1996-97  \n",
              "4  1996-97  \n",
              "\n",
              "[5 rows x 21 columns]"
            ]
          },
          "execution_count": 9,
          "metadata": {},
          "output_type": "execute_result"
        }
      ],
      "source": [
        "# Cleaning\n",
        "# confirming 'Unnamed: 0' column got dropped\n",
        "df.head()"
      ]
    },
    {
      "cell_type": "code",
      "execution_count": 10,
      "metadata": {
        "colab": {
          "base_uri": "https://localhost:8080/"
        },
        "id": "rZS2hgvFkVhQ",
        "outputId": "be217f4c-b672-4671-dad8-8448f9145fa4"
      },
      "outputs": [
        {
          "data": {
            "text/plain": [
              "player_name             0\n",
              "team_abbreviation       0\n",
              "age                     0\n",
              "player_height           0\n",
              "player_weight           0\n",
              "college              1854\n",
              "country                 0\n",
              "draft_year              0\n",
              "draft_round             0\n",
              "draft_number            0\n",
              "gp                      0\n",
              "pts                     0\n",
              "reb                     0\n",
              "ast                     0\n",
              "net_rating              0\n",
              "oreb_pct                0\n",
              "dreb_pct                0\n",
              "usg_pct                 0\n",
              "ts_pct                  0\n",
              "ast_pct                 0\n",
              "season                  0\n",
              "dtype: int64"
            ]
          },
          "execution_count": 10,
          "metadata": {},
          "output_type": "execute_result"
        }
      ],
      "source": [
        "# Check if there are any missing values in each column\n",
        "df.isnull().sum()"
      ]
    },
    {
      "cell_type": "code",
      "execution_count": 11,
      "metadata": {
        "colab": {
          "base_uri": "https://localhost:8080/"
        },
        "id": "8d3--bF5IYjl",
        "outputId": "3ce3955f-522d-4d0a-fc98-c06d35b65da6"
      },
      "outputs": [
        {
          "data": {
            "text/plain": [
              "player_name           object\n",
              "team_abbreviation     object\n",
              "age                  float64\n",
              "player_height_cm     float64\n",
              "player_weight_lbs    float64\n",
              "college               object\n",
              "country               object\n",
              "draft_year            object\n",
              "draft_round           object\n",
              "draft_number          object\n",
              "games_played           int64\n",
              "pts                  float64\n",
              "reb                  float64\n",
              "ast                  float64\n",
              "net_rating           float64\n",
              "oreb_pct             float64\n",
              "dreb_pct             float64\n",
              "usg_pct              float64\n",
              "ts_pct               float64\n",
              "ast_pct              float64\n",
              "season                object\n",
              "dtype: object"
            ]
          },
          "execution_count": 11,
          "metadata": {},
          "output_type": "execute_result"
        }
      ],
      "source": [
        "# More cleaning (renaming columns for clarity)\n",
        "df = df.rename(columns={'player_height':'player_height_cm', 'player_weight':'player_weight_lbs', 'gp':'games_played'})\n",
        "df.dtypes"
      ]
    },
    {
      "cell_type": "code",
      "execution_count": 13,
      "metadata": {
        "colab": {
          "base_uri": "https://localhost:8080/"
        },
        "id": "tT2nHNuq1T80",
        "outputId": "aadf82be-4644-4797-82d1-310074fb400f"
      },
      "outputs": [
        {
          "data": {
            "text/plain": [
              "count    12844.000000\n",
              "mean       221.042874\n",
              "std         27.396045\n",
              "min        133.000000\n",
              "25%        200.000000\n",
              "50%        220.000000\n",
              "75%        240.000000\n",
              "max        360.000000\n",
              "Name: player_weight_lbs, dtype: float64"
            ]
          },
          "execution_count": 13,
          "metadata": {},
          "output_type": "execute_result"
        }
      ],
      "source": [
        "# Cleaning \n",
        "# Converting player_weight to be in lbs instead of kg (only run this cell once!)\n",
        "df['player_weight_lbs'] = df['player_weight_lbs'] * 2.20462\n",
        "df['player_weight_lbs'] = df['player_weight_lbs'].round(2)\n",
        "df['player_weight_lbs'].describe()"
      ]
    },
    {
      "cell_type": "code",
      "execution_count": 16,
      "metadata": {
        "colab": {
          "base_uri": "https://localhost:8080/",
          "height": 1000
        },
        "id": "JgmDWVkPcdcu",
        "outputId": "f059f6a0-570f-41be-8c9f-c94bfce2be47"
      },
      "outputs": [
        {
          "data": {
            "image/png": "[encoded data removed]",
            "text/plain": [
              "<Figure size 640x480 with 1 Axes>"
            ]
          },
          "metadata": {},
          "output_type": "display_data"
        },
        {
          "data": {
            "image/png": "[encoded data removed]",
            "text/plain": [
              "<Figure size 640x480 with 1 Axes>"
            ]
          },
          "metadata": {},
          "output_type": "display_data"
        },
        {
          "data": {
            "image/png": "[encoded data removed]",
            "text/plain": [
              "<Figure size 640x480 with 1 Axes>"
            ]
          },
          "metadata": {},
          "output_type": "display_data"
        },
        {
          "data": {
            "image/png": "[encoded data removed]",
            "text/plain": [
              "<Figure size 640x480 with 1 Axes>"
            ]
          },
          "metadata": {},
          "output_type": "display_data"
        },
        {
          "data": {
            "image/png": "[encoded data removed]",
            "text/plain": [
              "<Figure size 640x480 with 1 Axes>"
            ]
          },
          "metadata": {},
          "output_type": "display_data"
        },
        {
          "data": {
            "image/png": "[encoded data removed]",
            "text/plain": [
              "<Figure size 640x480 with 1 Axes>"
            ]
          },
          "metadata": {},
          "output_type": "display_data"
        },
        {
          "data": {
            "image/png": "[encoded data removed]",
            "text/plain": [
              "<Figure size 640x480 with 1 Axes>"
            ]
          },
          "metadata": {},
          "output_type": "display_data"
        },
        {
          "data": {
            "image/png": "[encoded data removed]",
            "text/plain": [
              "<Figure size 640x480 with 1 Axes>"
            ]
          },
          "metadata": {},
          "output_type": "display_data"
        }
      ],
      "source": [
        "'''\n",
        "Visualizing the count of the top 10 distinct values in all columns with datatype object\n",
        "'''\n",
        "\n",
        "for col in df.select_dtypes(include=['object']).columns:\n",
        "    value_counts = df[col].value_counts().nlargest(5)  # Adjust based on your data\n",
        "    sns.barplot(y=value_counts.index, x=value_counts.values, orient='h')\n",
        "    plt.title(f'Top 10 value counts for {col}')\n",
        "    plt.xlabel('Counts')\n",
        "    plt.ylabel(col)\n",
        "\n",
        "    plt.show()"
      ]
    },
    {
      "cell_type": "code",
      "execution_count": 18,
      "metadata": {
        "id": "EUVxdU8Bp2y-"
      },
      "outputs": [],
      "source": [
        "# Converting the following columns into numeric data type:\n",
        "\n",
        "df['draft_year'] = df['draft_year'].replace('Undrafted', np.nan)\n",
        "df['draft_year'] = pd.to_numeric(df['draft_year'])\n",
        "\n",
        "df['draft_round'] = df['draft_round'].replace('Undrafted', np.nan)\n",
        "df['draft_round'] = pd.to_numeric(df['draft_round'])\n",
        "\n",
        "df['draft_number'] = df['draft_number'].replace('Undrafted', np.nan)\n",
        "df['draft_number'] = pd.to_numeric(df['draft_number'])"
      ]
    },
    {
      "cell_type": "code",
      "execution_count": 28,
      "metadata": {
        "id": "OM1oY7Z3rPvi"
      },
      "outputs": [],
      "source": [
        "'''\n",
        "# Helper function to automate data cleaning\n",
        "\n",
        "The following helper function converts the non-numeric value 'Undrafted' to np.nan for\n",
        "the columns draft_year, draft_round, and draft_number\n",
        "\n",
        "'''\n",
        "def clean_data(df):\n",
        "  df['draft_year'] = df['draft_year'].replace('Undrafted', np.nan)\n",
        "  df['draft_year'] = pd.to_numeric(df['draft_year'])\n",
        "\n",
        "  df['draft_round'] = df['draft_round'].replace('Undrafted', np.nan)\n",
        "  df['draft_round'] = pd.to_numeric(df['draft_round'])\n",
        "\n",
        "  df['draft_number'] = df['draft_number'].replace('Undrafted', np.nan)\n",
        "  df['draft_number'] = pd.to_numeric(df['draft_number'])\n",
        "  df = df\n",
        "  return df"
      ]
    },
    {
      "cell_type": "code",
      "execution_count": 19,
      "metadata": {
        "colab": {
          "base_uri": "https://localhost:8080/"
        },
        "id": "KjYDgoDSMAo9",
        "outputId": "ff4d0ed8-0c1b-4723-c47d-f38d546fcea0"
      },
      "outputs": [
        {
          "data": {
            "text/plain": [
              "player_name           object\n",
              "team_abbreviation     object\n",
              "age                  float64\n",
              "player_height_cm     float64\n",
              "player_weight_lbs    float64\n",
              "college               object\n",
              "country               object\n",
              "draft_year           float64\n",
              "draft_round          float64\n",
              "draft_number         float64\n",
              "games_played           int64\n",
              "pts                  float64\n",
              "reb                  float64\n",
              "ast                  float64\n",
              "net_rating           float64\n",
              "oreb_pct             float64\n",
              "dreb_pct             float64\n",
              "usg_pct              float64\n",
              "ts_pct               float64\n",
              "ast_pct              float64\n",
              "season                object\n",
              "dtype: object"
            ]
          },
          "execution_count": 19,
          "metadata": {},
          "output_type": "execute_result"
        }
      ],
      "source": [
        "# Double check that the columns got converted to a numeric datatype\n",
        "df.dtypes"
      ]
    },
    {
      "cell_type": "code",
      "execution_count": null,
      "metadata": {
        "id": "sP2it8H8rMXv"
      },
      "outputs": [],
      "source": [
        "# If you get more time try and look into why the below conversion to period didn't work\n",
        "# However, chatGPT's version in the next cell block did work.\n",
        "\n",
        "'''\n",
        "# Create copies of the 'season' column\n",
        "df['season_categorical'] = df['season']\n",
        "df['season_period'] = df['season']\n",
        "\n",
        "# Convert to categorical\n",
        "df['season_categorical'] = df['season_categorical'].astype('category')\n",
        "\n",
        "# Convert to period\n",
        "df['season_period'] = pd.PeriodIndex(df['season_period'], freq='Y')\n",
        "df.season\n",
        "'''"
      ]
    },
    {
      "cell_type": "code",
      "execution_count": 20,
      "metadata": {
        "colab": {
          "base_uri": "https://localhost:8080/"
        },
        "id": "WQq4raUE4lNL",
        "outputId": "d3735590-095e-4611-f81d-de6e2508ab5c"
      },
      "outputs": [
        {
          "data": {
            "text/plain": [
              "season                       object\n",
              "season_categorical         category\n",
              "season_period         period[A-DEC]\n",
              "dtype: object"
            ]
          },
          "execution_count": 20,
          "metadata": {},
          "output_type": "execute_result"
        }
      ],
      "source": [
        "'''\n",
        "\n",
        "df['season'] is an Object datatype which isn't very useful.\n",
        "I will duplicate the column and create a categories datatype and a period datatype\n",
        "Categorical and Period datatypes each have their own benefits for analysis which is why I am doing this.\n",
        "\n",
        "chatGPT helped me make these conversions\n",
        "\n",
        "'''\n",
        "\n",
        "# Step 1: The original 'season' column remains unchanged.\n",
        "\n",
        "# Step 2: Duplicate the 'season' column as categorical datatype\n",
        "df['season_categorical'] = df['season'].astype('category')\n",
        "\n",
        "# Step 3: Duplicate the 'season' column as period datatype\n",
        "    # Convert the season to a period datatype, assuming the format is 'YYYY-YY' and using the starting year.\n",
        "    # Note: Pandas Periods require a specific frequency, so we'll use 'A' (annual) frequency here,\n",
        "    # assuming the season roughly corresponds to a single year.\n",
        "df['season_period'] = df['season'].apply(lambda x: pd.Period(x.split('-')[0], 'A'))\n",
        "\n",
        "# Display the data types of the new columns to verify\n",
        "df.dtypes[['season', 'season_categorical', 'season_period']]\n"
      ]
    },
    {
      "cell_type": "code",
      "execution_count": 21,
      "metadata": {
        "colab": {
          "base_uri": "https://localhost:8080/",
          "height": 176
        },
        "id": "iaGpoUhlYUDj",
        "outputId": "fa7cbdb6-260a-40df-f519-84fac402fb17"
      },
      "outputs": [
        {
          "data": {
            "text/html": [
              "<div>\n",
              "<style scoped>\n",
              "    .dataframe tbody tr th:only-of-type {\n",
              "        vertical-align: middle;\n",
              "    }\n",
              "\n",
              "    .dataframe tbody tr th {\n",
              "        vertical-align: top;\n",
              "    }\n",
              "\n",
              "    .dataframe thead th {\n",
              "        text-align: right;\n",
              "    }\n",
              "</style>\n",
              "<table border=\"1\" class=\"dataframe\">\n",
              "  <thead>\n",
              "    <tr style=\"text-align: right;\">\n",
              "      <th></th>\n",
              "      <th>count</th>\n",
              "      <th>mean</th>\n",
              "      <th>std</th>\n",
              "      <th>min</th>\n",
              "      <th>25%</th>\n",
              "      <th>50%</th>\n",
              "      <th>75%</th>\n",
              "      <th>max</th>\n",
              "    </tr>\n",
              "  </thead>\n",
              "  <tbody>\n",
              "    <tr>\n",
              "      <th>age</th>\n",
              "      <td>605.0</td>\n",
              "      <td>26.166942</td>\n",
              "      <td>4.153140</td>\n",
              "      <td>19.00</td>\n",
              "      <td>23.000</td>\n",
              "      <td>25.000</td>\n",
              "      <td>29.000</td>\n",
              "      <td>42.000</td>\n",
              "    </tr>\n",
              "    <tr>\n",
              "      <th>player_height_cm</th>\n",
              "      <td>605.0</td>\n",
              "      <td>198.350909</td>\n",
              "      <td>8.370804</td>\n",
              "      <td>175.26</td>\n",
              "      <td>193.040</td>\n",
              "      <td>198.120</td>\n",
              "      <td>203.200</td>\n",
              "      <td>228.600</td>\n",
              "    </tr>\n",
              "    <tr>\n",
              "      <th>player_weight_lbs</th>\n",
              "      <td>605.0</td>\n",
              "      <td>214.590083</td>\n",
              "      <td>24.385913</td>\n",
              "      <td>160.00</td>\n",
              "      <td>197.000</td>\n",
              "      <td>214.000</td>\n",
              "      <td>230.000</td>\n",
              "      <td>311.000</td>\n",
              "    </tr>\n",
              "    <tr>\n",
              "      <th>draft_year</th>\n",
              "      <td>438.0</td>\n",
              "      <td>2015.958904</td>\n",
              "      <td>4.344770</td>\n",
              "      <td>2001.00</td>\n",
              "      <td>2013.000</td>\n",
              "      <td>2017.000</td>\n",
              "      <td>2019.000</td>\n",
              "      <td>2021.000</td>\n",
              "    </tr>\n",
              "    <tr>\n",
              "      <th>draft_round</th>\n",
              "      <td>425.0</td>\n",
              "      <td>1.334118</td>\n",
              "      <td>0.482122</td>\n",
              "      <td>0.00</td>\n",
              "      <td>1.000</td>\n",
              "      <td>1.000</td>\n",
              "      <td>2.000</td>\n",
              "      <td>2.000</td>\n",
              "    </tr>\n",
              "    <tr>\n",
              "      <th>draft_number</th>\n",
              "      <td>424.0</td>\n",
              "      <td>23.617925</td>\n",
              "      <td>16.253467</td>\n",
              "      <td>0.00</td>\n",
              "      <td>9.000</td>\n",
              "      <td>21.000</td>\n",
              "      <td>36.000</td>\n",
              "      <td>60.000</td>\n",
              "    </tr>\n",
              "    <tr>\n",
              "      <th>games_played</th>\n",
              "      <td>605.0</td>\n",
              "      <td>43.039669</td>\n",
              "      <td>25.816438</td>\n",
              "      <td>1.00</td>\n",
              "      <td>17.000</td>\n",
              "      <td>48.000</td>\n",
              "      <td>66.000</td>\n",
              "      <td>82.000</td>\n",
              "    </tr>\n",
              "    <tr>\n",
              "      <th>pts</th>\n",
              "      <td>605.0</td>\n",
              "      <td>8.240000</td>\n",
              "      <td>6.333140</td>\n",
              "      <td>0.00</td>\n",
              "      <td>3.500</td>\n",
              "      <td>6.900</td>\n",
              "      <td>11.100</td>\n",
              "      <td>30.600</td>\n",
              "    </tr>\n",
              "    <tr>\n",
              "      <th>reb</th>\n",
              "      <td>605.0</td>\n",
              "      <td>3.446942</td>\n",
              "      <td>2.405157</td>\n",
              "      <td>0.00</td>\n",
              "      <td>1.800</td>\n",
              "      <td>3.000</td>\n",
              "      <td>4.500</td>\n",
              "      <td>14.700</td>\n",
              "    </tr>\n",
              "    <tr>\n",
              "      <th>ast</th>\n",
              "      <td>605.0</td>\n",
              "      <td>1.868264</td>\n",
              "      <td>1.833794</td>\n",
              "      <td>0.00</td>\n",
              "      <td>0.600</td>\n",
              "      <td>1.200</td>\n",
              "      <td>2.500</td>\n",
              "      <td>10.800</td>\n",
              "    </tr>\n",
              "    <tr>\n",
              "      <th>net_rating</th>\n",
              "      <td>605.0</td>\n",
              "      <td>-3.983140</td>\n",
              "      <td>21.062147</td>\n",
              "      <td>-250.00</td>\n",
              "      <td>-7.200</td>\n",
              "      <td>-1.300</td>\n",
              "      <td>3.500</td>\n",
              "      <td>133.300</td>\n",
              "    </tr>\n",
              "    <tr>\n",
              "      <th>oreb_pct</th>\n",
              "      <td>605.0</td>\n",
              "      <td>0.044641</td>\n",
              "      <td>0.042521</td>\n",
              "      <td>0.00</td>\n",
              "      <td>0.017</td>\n",
              "      <td>0.031</td>\n",
              "      <td>0.061</td>\n",
              "      <td>0.500</td>\n",
              "    </tr>\n",
              "    <tr>\n",
              "      <th>dreb_pct</th>\n",
              "      <td>605.0</td>\n",
              "      <td>0.130965</td>\n",
              "      <td>0.060132</td>\n",
              "      <td>0.00</td>\n",
              "      <td>0.095</td>\n",
              "      <td>0.119</td>\n",
              "      <td>0.164</td>\n",
              "      <td>0.389</td>\n",
              "    </tr>\n",
              "    <tr>\n",
              "      <th>usg_pct</th>\n",
              "      <td>605.0</td>\n",
              "      <td>0.175435</td>\n",
              "      <td>0.060423</td>\n",
              "      <td>0.00</td>\n",
              "      <td>0.138</td>\n",
              "      <td>0.169</td>\n",
              "      <td>0.206</td>\n",
              "      <td>0.500</td>\n",
              "    </tr>\n",
              "    <tr>\n",
              "      <th>ts_pct</th>\n",
              "      <td>605.0</td>\n",
              "      <td>0.523787</td>\n",
              "      <td>0.145318</td>\n",
              "      <td>0.00</td>\n",
              "      <td>0.500</td>\n",
              "      <td>0.549</td>\n",
              "      <td>0.593</td>\n",
              "      <td>1.000</td>\n",
              "    </tr>\n",
              "    <tr>\n",
              "      <th>ast_pct</th>\n",
              "      <td>605.0</td>\n",
              "      <td>0.133869</td>\n",
              "      <td>0.099031</td>\n",
              "      <td>0.00</td>\n",
              "      <td>0.070</td>\n",
              "      <td>0.106</td>\n",
              "      <td>0.178</td>\n",
              "      <td>1.000</td>\n",
              "    </tr>\n",
              "  </tbody>\n",
              "</table>\n",
              "</div>"
            ],
            "text/plain": [
              "                   count         mean        std      min       25%       50%  \\\n",
              "age                605.0    26.166942   4.153140    19.00    23.000    25.000   \n",
              "player_height_cm   605.0   198.350909   8.370804   175.26   193.040   198.120   \n",
              "player_weight_lbs  605.0   214.590083  24.385913   160.00   197.000   214.000   \n",
              "draft_year         438.0  2015.958904   4.344770  2001.00  2013.000  2017.000   \n",
              "draft_round        425.0     1.334118   0.482122     0.00     1.000     1.000   \n",
              "draft_number       424.0    23.617925  16.253467     0.00     9.000    21.000   \n",
              "games_played       605.0    43.039669  25.816438     1.00    17.000    48.000   \n",
              "pts                605.0     8.240000   6.333140     0.00     3.500     6.900   \n",
              "reb                605.0     3.446942   2.405157     0.00     1.800     3.000   \n",
              "ast                605.0     1.868264   1.833794     0.00     0.600     1.200   \n",
              "net_rating         605.0    -3.983140  21.062147  -250.00    -7.200    -1.300   \n",
              "oreb_pct           605.0     0.044641   0.042521     0.00     0.017     0.031   \n",
              "dreb_pct           605.0     0.130965   0.060132     0.00     0.095     0.119   \n",
              "usg_pct            605.0     0.175435   0.060423     0.00     0.138     0.169   \n",
              "ts_pct             605.0     0.523787   0.145318     0.00     0.500     0.549   \n",
              "ast_pct            605.0     0.133869   0.099031     0.00     0.070     0.106   \n",
              "\n",
              "                        75%       max  \n",
              "age                  29.000    42.000  \n",
              "player_height_cm    203.200   228.600  \n",
              "player_weight_lbs   230.000   311.000  \n",
              "draft_year         2019.000  2021.000  \n",
              "draft_round           2.000     2.000  \n",
              "draft_number         36.000    60.000  \n",
              "games_played         66.000    82.000  \n",
              "pts                  11.100    30.600  \n",
              "reb                   4.500    14.700  \n",
              "ast                   2.500    10.800  \n",
              "net_rating            3.500   133.300  \n",
              "oreb_pct              0.061     0.500  \n",
              "dreb_pct              0.164     0.389  \n",
              "usg_pct               0.206     0.500  \n",
              "ts_pct                0.593     1.000  \n",
              "ast_pct               0.178     1.000  "
            ]
          },
          "execution_count": 21,
          "metadata": {},
          "output_type": "execute_result"
        }
      ],
      "source": [
        "# For time's sake I am just going to fucus on analyzing the 2021-22 season\n",
        "# saving the filtered Dataframe in variable df_2021-22\n",
        "\n",
        "df_2021_22 = df[df['season'] == '2021-22']\n",
        "df_2021_22.describe().T"
      ]
    },
    {
      "cell_type": "code",
      "execution_count": 22,
      "metadata": {
        "colab": {
          "base_uri": "https://localhost:8080/",
          "height": 445
        },
        "id": "FCQBPbapQYn2",
        "outputId": "183fad5f-e7b9-4806-82cc-10e31bb9d2ec"
      },
      "outputs": [
        {
          "data": {
            "image/png": "[encoded data removed]",
            "text/plain": [
              "<Figure size 800x500 with 1 Axes>"
            ]
          },
          "metadata": {},
          "output_type": "display_data"
        }
      ],
      "source": [
        "# Now that we are just working with the 2021-22 season, lets see some distribution of the data\n",
        "# Action Items: \n",
        "    # Add axis labels and a title when you have time\n",
        "\n",
        "plt.figure(figsize=(8, 5))\n",
        "plt.boxplot(df_2021_22.pts)\n",
        "plt.show()"
      ]
    },
    {
      "cell_type": "code",
      "execution_count": 24,
      "metadata": {
        "colab": {
          "base_uri": "https://localhost:8080/",
          "height": 487
        },
        "id": "3M5OFGF4RBO1",
        "outputId": "5c189ce0-38ea-4a1a-9b64-e09b15e664e2"
      },
      "outputs": [
        {
          "data": {
            "image/png": "[encoded data removed]",
            "text/plain": [
              "<Figure size 800x500 with 1 Axes>"
            ]
          },
          "metadata": {},
          "output_type": "display_data"
        }
      ],
      "source": [
        "# Now lets do a histogram\n",
        "plt.figure(figsize=(8,5))\n",
        "plt.hist(df_2021_22.pts)\n",
        "plt.xlabel('Points')\n",
        "plt.ylabel('Frequency')\n",
        "plt.title('201-22 Points Distribution')\n",
        "plt.show()"
      ]
    },
    {
      "cell_type": "markdown",
      "metadata": {},
      "source": [
        "## Exploring Relationships Between Columns\n"
      ]
    },
    {
      "cell_type": "markdown",
      "metadata": {},
      "source": [
        "### Player Height vs. Points Scored (Numerical to Numerical Analysis)"
      ]
    },
    {
      "cell_type": "code",
      "execution_count": 26,
      "metadata": {
        "colab": {
          "base_uri": "https://localhost:8080/",
          "height": 193
        },
        "id": "MzZs6FdiSwRB",
        "outputId": "2f74a312-9380-420f-c288-ef595454d149"
      },
      "outputs": [
        {
          "data": {
            "text/plain": [
              "0.022972543361708606"
            ]
          },
          "execution_count": 26,
          "metadata": {},
          "output_type": "execute_result"
        }
      ],
      "source": [
        "# Exploring Relationships Between Columns\n",
        "'''\n",
        "I am curious to see relationship between player height and\n",
        "points scored using a scatter plot and calculating the Pearson correlation coefficient.\n",
        "\n",
        "'''\n",
        "# Player Height vs. Points Scored (Numerical to Numerical Analysis)\n",
        "\n",
        "# Calculating Pearson correlation coefficient between 'player_height_cm' and 'pts'\n",
        "correlation_height_pts = df_2021_22['player_height_cm'].corr(df_2021_22['pts'])\n",
        "correlation_height_pts"
      ]
    },
    {
      "cell_type": "code",
      "execution_count": 27,
      "metadata": {
        "id": "50P5hO7PMOiL"
      },
      "outputs": [],
      "source": [
        "# The correlation coefficient suggests that there is no strong correlation between \n",
        "# player_heights and pts"
      ]
    }
  ],
  "metadata": {
    "colab": {
      "provenance": []
    },
    "kernelspec": {
      "display_name": "Python 3",
      "name": "python3"
    },
    "language_info": {
      "codemirror_mode": {
        "name": "ipython",
        "version": 3
      },
      "file_extension": ".py",
      "mimetype": "text/x-python",
      "name": "python",
      "nbconvert_exporter": "python",
      "pygments_lexer": "ipython3",
      "version": "3.11.5"
    }
  },
  "nbformat": 4,
  "nbformat_minor": 0
}
