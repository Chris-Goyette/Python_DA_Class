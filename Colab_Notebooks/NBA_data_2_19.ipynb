{
  "cells": [
    {
      "cell_type": "markdown",
      "metadata": {
        "id": "RGxXVHzYUMR6"
      },
      "source": [
        "Data source -> https://www.kaggle.com/datasets/justinas/nba-players-data/data"
      ]
    },
    {
      "cell_type": "code",
      "execution_count": 115,
      "metadata": {
        "colab": {
          "base_uri": "https://localhost:8080/"
        },
        "id": "5XdGspFTcsJA",
        "outputId": "e10b4e61-e92b-413b-b426-5100e1c1a976"
      },
      "outputs": [
        {
          "data": {
            "text/html": [
              "<div>\n",
              "<style scoped>\n",
              "    .dataframe tbody tr th:only-of-type {\n",
              "        vertical-align: middle;\n",
              "    }\n",
              "\n",
              "    .dataframe tbody tr th {\n",
              "        vertical-align: top;\n",
              "    }\n",
              "\n",
              "    .dataframe thead th {\n",
              "        text-align: right;\n",
              "    }\n",
              "</style>\n",
              "<table border=\"1\" class=\"dataframe\">\n",
              "  <thead>\n",
              "    <tr style=\"text-align: right;\">\n",
              "      <th></th>\n",
              "      <th>Unnamed: 0</th>\n",
              "      <th>player_name</th>\n",
              "      <th>team_abbreviation</th>\n",
              "      <th>age</th>\n",
              "      <th>player_height</th>\n",
              "      <th>player_weight</th>\n",
              "      <th>college</th>\n",
              "      <th>country</th>\n",
              "      <th>draft_year</th>\n",
              "      <th>draft_round</th>\n",
              "      <th>...</th>\n",
              "      <th>pts</th>\n",
              "      <th>reb</th>\n",
              "      <th>ast</th>\n",
              "      <th>net_rating</th>\n",
              "      <th>oreb_pct</th>\n",
              "      <th>dreb_pct</th>\n",
              "      <th>usg_pct</th>\n",
              "      <th>ts_pct</th>\n",
              "      <th>ast_pct</th>\n",
              "      <th>season</th>\n",
              "    </tr>\n",
              "  </thead>\n",
              "  <tbody>\n",
              "    <tr>\n",
              "      <th>0</th>\n",
              "      <td>0</td>\n",
              "      <td>Randy Livingston</td>\n",
              "      <td>HOU</td>\n",
              "      <td>22.0</td>\n",
              "      <td>193.04</td>\n",
              "      <td>94.800728</td>\n",
              "      <td>Louisiana State</td>\n",
              "      <td>USA</td>\n",
              "      <td>1996</td>\n",
              "      <td>2</td>\n",
              "      <td>...</td>\n",
              "      <td>3.9</td>\n",
              "      <td>1.5</td>\n",
              "      <td>2.4</td>\n",
              "      <td>0.3</td>\n",
              "      <td>0.042</td>\n",
              "      <td>0.071</td>\n",
              "      <td>0.169</td>\n",
              "      <td>0.487</td>\n",
              "      <td>0.248</td>\n",
              "      <td>1996-97</td>\n",
              "    </tr>\n",
              "    <tr>\n",
              "      <th>1</th>\n",
              "      <td>1</td>\n",
              "      <td>Gaylon Nickerson</td>\n",
              "      <td>WAS</td>\n",
              "      <td>28.0</td>\n",
              "      <td>190.50</td>\n",
              "      <td>86.182480</td>\n",
              "      <td>Northwestern Oklahoma</td>\n",
              "      <td>USA</td>\n",
              "      <td>1994</td>\n",
              "      <td>2</td>\n",
              "      <td>...</td>\n",
              "      <td>3.8</td>\n",
              "      <td>1.3</td>\n",
              "      <td>0.3</td>\n",
              "      <td>8.9</td>\n",
              "      <td>0.030</td>\n",
              "      <td>0.111</td>\n",
              "      <td>0.174</td>\n",
              "      <td>0.497</td>\n",
              "      <td>0.043</td>\n",
              "      <td>1996-97</td>\n",
              "    </tr>\n",
              "    <tr>\n",
              "      <th>2</th>\n",
              "      <td>2</td>\n",
              "      <td>George Lynch</td>\n",
              "      <td>VAN</td>\n",
              "      <td>26.0</td>\n",
              "      <td>203.20</td>\n",
              "      <td>103.418976</td>\n",
              "      <td>North Carolina</td>\n",
              "      <td>USA</td>\n",
              "      <td>1993</td>\n",
              "      <td>1</td>\n",
              "      <td>...</td>\n",
              "      <td>8.3</td>\n",
              "      <td>6.4</td>\n",
              "      <td>1.9</td>\n",
              "      <td>-8.2</td>\n",
              "      <td>0.106</td>\n",
              "      <td>0.185</td>\n",
              "      <td>0.175</td>\n",
              "      <td>0.512</td>\n",
              "      <td>0.125</td>\n",
              "      <td>1996-97</td>\n",
              "    </tr>\n",
              "    <tr>\n",
              "      <th>3</th>\n",
              "      <td>3</td>\n",
              "      <td>George McCloud</td>\n",
              "      <td>LAL</td>\n",
              "      <td>30.0</td>\n",
              "      <td>203.20</td>\n",
              "      <td>102.058200</td>\n",
              "      <td>Florida State</td>\n",
              "      <td>USA</td>\n",
              "      <td>1989</td>\n",
              "      <td>1</td>\n",
              "      <td>...</td>\n",
              "      <td>10.2</td>\n",
              "      <td>2.8</td>\n",
              "      <td>1.7</td>\n",
              "      <td>-2.7</td>\n",
              "      <td>0.027</td>\n",
              "      <td>0.111</td>\n",
              "      <td>0.206</td>\n",
              "      <td>0.527</td>\n",
              "      <td>0.125</td>\n",
              "      <td>1996-97</td>\n",
              "    </tr>\n",
              "    <tr>\n",
              "      <th>4</th>\n",
              "      <td>4</td>\n",
              "      <td>George Zidek</td>\n",
              "      <td>DEN</td>\n",
              "      <td>23.0</td>\n",
              "      <td>213.36</td>\n",
              "      <td>119.748288</td>\n",
              "      <td>UCLA</td>\n",
              "      <td>USA</td>\n",
              "      <td>1995</td>\n",
              "      <td>1</td>\n",
              "      <td>...</td>\n",
              "      <td>2.8</td>\n",
              "      <td>1.7</td>\n",
              "      <td>0.3</td>\n",
              "      <td>-14.1</td>\n",
              "      <td>0.102</td>\n",
              "      <td>0.169</td>\n",
              "      <td>0.195</td>\n",
              "      <td>0.500</td>\n",
              "      <td>0.064</td>\n",
              "      <td>1996-97</td>\n",
              "    </tr>\n",
              "    <tr>\n",
              "      <th>...</th>\n",
              "      <td>...</td>\n",
              "      <td>...</td>\n",
              "      <td>...</td>\n",
              "      <td>...</td>\n",
              "      <td>...</td>\n",
              "      <td>...</td>\n",
              "      <td>...</td>\n",
              "      <td>...</td>\n",
              "      <td>...</td>\n",
              "      <td>...</td>\n",
              "      <td>...</td>\n",
              "      <td>...</td>\n",
              "      <td>...</td>\n",
              "      <td>...</td>\n",
              "      <td>...</td>\n",
              "      <td>...</td>\n",
              "      <td>...</td>\n",
              "      <td>...</td>\n",
              "      <td>...</td>\n",
              "      <td>...</td>\n",
              "      <td>...</td>\n",
              "    </tr>\n",
              "    <tr>\n",
              "      <th>12839</th>\n",
              "      <td>12839</td>\n",
              "      <td>Joel Embiid</td>\n",
              "      <td>PHI</td>\n",
              "      <td>29.0</td>\n",
              "      <td>213.36</td>\n",
              "      <td>127.005760</td>\n",
              "      <td>Kansas</td>\n",
              "      <td>Cameroon</td>\n",
              "      <td>2014</td>\n",
              "      <td>1</td>\n",
              "      <td>...</td>\n",
              "      <td>33.1</td>\n",
              "      <td>10.2</td>\n",
              "      <td>4.2</td>\n",
              "      <td>8.8</td>\n",
              "      <td>0.057</td>\n",
              "      <td>0.243</td>\n",
              "      <td>0.370</td>\n",
              "      <td>0.655</td>\n",
              "      <td>0.233</td>\n",
              "      <td>2022-23</td>\n",
              "    </tr>\n",
              "    <tr>\n",
              "      <th>12840</th>\n",
              "      <td>12840</td>\n",
              "      <td>John Butler Jr.</td>\n",
              "      <td>POR</td>\n",
              "      <td>20.0</td>\n",
              "      <td>213.36</td>\n",
              "      <td>86.182480</td>\n",
              "      <td>Florida State</td>\n",
              "      <td>USA</td>\n",
              "      <td>Undrafted</td>\n",
              "      <td>Undrafted</td>\n",
              "      <td>...</td>\n",
              "      <td>2.4</td>\n",
              "      <td>0.9</td>\n",
              "      <td>0.6</td>\n",
              "      <td>-16.1</td>\n",
              "      <td>0.012</td>\n",
              "      <td>0.065</td>\n",
              "      <td>0.102</td>\n",
              "      <td>0.411</td>\n",
              "      <td>0.066</td>\n",
              "      <td>2022-23</td>\n",
              "    </tr>\n",
              "    <tr>\n",
              "      <th>12841</th>\n",
              "      <td>12841</td>\n",
              "      <td>John Collins</td>\n",
              "      <td>ATL</td>\n",
              "      <td>25.0</td>\n",
              "      <td>205.74</td>\n",
              "      <td>102.511792</td>\n",
              "      <td>Wake Forest</td>\n",
              "      <td>USA</td>\n",
              "      <td>2017</td>\n",
              "      <td>1</td>\n",
              "      <td>...</td>\n",
              "      <td>13.1</td>\n",
              "      <td>6.5</td>\n",
              "      <td>1.2</td>\n",
              "      <td>-0.2</td>\n",
              "      <td>0.035</td>\n",
              "      <td>0.180</td>\n",
              "      <td>0.168</td>\n",
              "      <td>0.593</td>\n",
              "      <td>0.052</td>\n",
              "      <td>2022-23</td>\n",
              "    </tr>\n",
              "    <tr>\n",
              "      <th>12842</th>\n",
              "      <td>12842</td>\n",
              "      <td>Jericho Sims</td>\n",
              "      <td>NYK</td>\n",
              "      <td>24.0</td>\n",
              "      <td>208.28</td>\n",
              "      <td>113.398000</td>\n",
              "      <td>Texas</td>\n",
              "      <td>USA</td>\n",
              "      <td>2021</td>\n",
              "      <td>2</td>\n",
              "      <td>...</td>\n",
              "      <td>3.4</td>\n",
              "      <td>4.7</td>\n",
              "      <td>0.5</td>\n",
              "      <td>-6.7</td>\n",
              "      <td>0.117</td>\n",
              "      <td>0.175</td>\n",
              "      <td>0.074</td>\n",
              "      <td>0.780</td>\n",
              "      <td>0.044</td>\n",
              "      <td>2022-23</td>\n",
              "    </tr>\n",
              "    <tr>\n",
              "      <th>12843</th>\n",
              "      <td>12843</td>\n",
              "      <td>JaMychal Green</td>\n",
              "      <td>GSW</td>\n",
              "      <td>33.0</td>\n",
              "      <td>205.74</td>\n",
              "      <td>102.965384</td>\n",
              "      <td>Alabama</td>\n",
              "      <td>USA</td>\n",
              "      <td>Undrafted</td>\n",
              "      <td>Undrafted</td>\n",
              "      <td>...</td>\n",
              "      <td>6.4</td>\n",
              "      <td>3.6</td>\n",
              "      <td>0.9</td>\n",
              "      <td>-8.2</td>\n",
              "      <td>0.087</td>\n",
              "      <td>0.164</td>\n",
              "      <td>0.169</td>\n",
              "      <td>0.650</td>\n",
              "      <td>0.094</td>\n",
              "      <td>2022-23</td>\n",
              "    </tr>\n",
              "  </tbody>\n",
              "</table>\n",
              "<p>12844 rows × 22 columns</p>\n",
              "</div>"
            ],
            "text/plain": [
              "       Unnamed: 0       player_name team_abbreviation   age  player_height  \\\n",
              "0               0  Randy Livingston               HOU  22.0         193.04   \n",
              "1               1  Gaylon Nickerson               WAS  28.0         190.50   \n",
              "2               2      George Lynch               VAN  26.0         203.20   \n",
              "3               3    George McCloud               LAL  30.0         203.20   \n",
              "4               4      George Zidek               DEN  23.0         213.36   \n",
              "...           ...               ...               ...   ...            ...   \n",
              "12839       12839       Joel Embiid               PHI  29.0         213.36   \n",
              "12840       12840   John Butler Jr.               POR  20.0         213.36   \n",
              "12841       12841      John Collins               ATL  25.0         205.74   \n",
              "12842       12842      Jericho Sims               NYK  24.0         208.28   \n",
              "12843       12843    JaMychal Green               GSW  33.0         205.74   \n",
              "\n",
              "       player_weight                college   country draft_year draft_round  \\\n",
              "0          94.800728        Louisiana State       USA       1996           2   \n",
              "1          86.182480  Northwestern Oklahoma       USA       1994           2   \n",
              "2         103.418976         North Carolina       USA       1993           1   \n",
              "3         102.058200          Florida State       USA       1989           1   \n",
              "4         119.748288                   UCLA       USA       1995           1   \n",
              "...              ...                    ...       ...        ...         ...   \n",
              "12839     127.005760                 Kansas  Cameroon       2014           1   \n",
              "12840      86.182480          Florida State       USA  Undrafted   Undrafted   \n",
              "12841     102.511792            Wake Forest       USA       2017           1   \n",
              "12842     113.398000                  Texas       USA       2021           2   \n",
              "12843     102.965384                Alabama       USA  Undrafted   Undrafted   \n",
              "\n",
              "       ...   pts   reb  ast  net_rating  oreb_pct  dreb_pct  usg_pct  ts_pct  \\\n",
              "0      ...   3.9   1.5  2.4         0.3     0.042     0.071    0.169   0.487   \n",
              "1      ...   3.8   1.3  0.3         8.9     0.030     0.111    0.174   0.497   \n",
              "2      ...   8.3   6.4  1.9        -8.2     0.106     0.185    0.175   0.512   \n",
              "3      ...  10.2   2.8  1.7        -2.7     0.027     0.111    0.206   0.527   \n",
              "4      ...   2.8   1.7  0.3       -14.1     0.102     0.169    0.195   0.500   \n",
              "...    ...   ...   ...  ...         ...       ...       ...      ...     ...   \n",
              "12839  ...  33.1  10.2  4.2         8.8     0.057     0.243    0.370   0.655   \n",
              "12840  ...   2.4   0.9  0.6       -16.1     0.012     0.065    0.102   0.411   \n",
              "12841  ...  13.1   6.5  1.2        -0.2     0.035     0.180    0.168   0.593   \n",
              "12842  ...   3.4   4.7  0.5        -6.7     0.117     0.175    0.074   0.780   \n",
              "12843  ...   6.4   3.6  0.9        -8.2     0.087     0.164    0.169   0.650   \n",
              "\n",
              "       ast_pct   season  \n",
              "0        0.248  1996-97  \n",
              "1        0.043  1996-97  \n",
              "2        0.125  1996-97  \n",
              "3        0.125  1996-97  \n",
              "4        0.064  1996-97  \n",
              "...        ...      ...  \n",
              "12839    0.233  2022-23  \n",
              "12840    0.066  2022-23  \n",
              "12841    0.052  2022-23  \n",
              "12842    0.044  2022-23  \n",
              "12843    0.094  2022-23  \n",
              "\n",
              "[12844 rows x 22 columns]"
            ]
          },
          "execution_count": 115,
          "metadata": {},
          "output_type": "execute_result"
        }
      ],
      "source": [
        "# access data\n",
        "import pandas as pd\n",
        "\n",
        "# Since the file is in this project we can use a relative path \n",
        "file_path = 'data/all_seasons.csv'\n",
        "\n",
        "df = pd.read_csv(file_path)\n",
        "\n",
        "# display df to see what we are working with\n",
        "df\n"
      ]
    },
    {
      "cell_type": "code",
      "execution_count": 116,
      "metadata": {
        "id": "1I7XxmZPeAD3"
      },
      "outputs": [],
      "source": [
        "# Import additional libraries for data analysis\n",
        "import numpy as np\n",
        "import matplotlib.pyplot as plt\n",
        "import seaborn as sns"
      ]
    },
    {
      "cell_type": "markdown",
      "metadata": {},
      "source": [
        "## Data Exploration \n",
        "Time to see what our data looks like"
      ]
    },
    {
      "cell_type": "code",
      "execution_count": 117,
      "metadata": {
        "colab": {
          "base_uri": "https://localhost:8080/"
        },
        "id": "RKjd_-R3kRLb",
        "outputId": "359a92ae-ec25-4cea-b996-90df1f5ba37e"
      },
      "outputs": [
        {
          "data": {
            "text/plain": [
              "(12844, 22)"
            ]
          },
          "execution_count": 117,
          "metadata": {},
          "output_type": "execute_result"
        }
      ],
      "source": [
        "# Let's get an idea of the number of rows and columns the dataset has\n",
        "df.shape"
      ]
    },
    {
      "cell_type": "code",
      "execution_count": 118,
      "metadata": {
        "colab": {
          "base_uri": "https://localhost:8080/"
        },
        "id": "5QlfEZvQkSQS",
        "outputId": "c567ee34-5132-4a18-cd1b-3053adddecf4"
      },
      "outputs": [
        {
          "name": "stdout",
          "output_type": "stream",
          "text": [
            "<class 'pandas.core.frame.DataFrame'>\n",
            "RangeIndex: 12844 entries, 0 to 12843\n",
            "Data columns (total 22 columns):\n",
            " #   Column             Non-Null Count  Dtype  \n",
            "---  ------             --------------  -----  \n",
            " 0   Unnamed: 0         12844 non-null  int64  \n",
            " 1   player_name        12844 non-null  object \n",
            " 2   team_abbreviation  12844 non-null  object \n",
            " 3   age                12844 non-null  float64\n",
            " 4   player_height      12844 non-null  float64\n",
            " 5   player_weight      12844 non-null  float64\n",
            " 6   college            10990 non-null  object \n",
            " 7   country            12844 non-null  object \n",
            " 8   draft_year         12844 non-null  object \n",
            " 9   draft_round        12844 non-null  object \n",
            " 10  draft_number       12844 non-null  object \n",
            " 11  gp                 12844 non-null  int64  \n",
            " 12  pts                12844 non-null  float64\n",
            " 13  reb                12844 non-null  float64\n",
            " 14  ast                12844 non-null  float64\n",
            " 15  net_rating         12844 non-null  float64\n",
            " 16  oreb_pct           12844 non-null  float64\n",
            " 17  dreb_pct           12844 non-null  float64\n",
            " 18  usg_pct            12844 non-null  float64\n",
            " 19  ts_pct             12844 non-null  float64\n",
            " 20  ast_pct            12844 non-null  float64\n",
            " 21  season             12844 non-null  object \n",
            "dtypes: float64(12), int64(2), object(8)\n",
            "memory usage: 2.2+ MB\n"
          ]
        }
      ],
      "source": [
        "# Now lets check data types and null values\n",
        "\n",
        "df.info()"
      ]
    },
    {
      "cell_type": "markdown",
      "metadata": {},
      "source": [
        "Looking at the above output, we can see that many columns in our dataset are of type \n",
        "object. To do any meaningful analysis we will need to clean this up and convert these \n",
        "columns to a number type. "
      ]
    },
    {
      "cell_type": "markdown",
      "metadata": {},
      "source": [
        "## Data Cleaning"
      ]
    },
    {
      "cell_type": "code",
      "execution_count": 125,
      "metadata": {
        "colab": {
          "base_uri": "https://localhost:8080/",
          "height": 634
        },
        "id": "jB98PnRpRpWd",
        "outputId": "a08288e8-6d53-45a4-b91a-6bf0a84ded50"
      },
      "outputs": [
        {
          "data": {
            "text/plain": [
              "0         94.800728\n",
              "1         86.182480\n",
              "2        103.418976\n",
              "3        102.058200\n",
              "4        119.748288\n",
              "            ...    \n",
              "12839    127.005760\n",
              "12840     86.182480\n",
              "12841    102.511792\n",
              "12842    113.398000\n",
              "12843    102.965384\n",
              "Name: player_weight, Length: 12844, dtype: float64"
            ]
          },
          "execution_count": 125,
          "metadata": {},
          "output_type": "execute_result"
        }
      ],
      "source": [
        "# Before doing any cleaning I like to have a copy of original df in case I need it for any reason\n",
        "\n",
        "original_data = df.copy()\n",
        "original_data"
      ]
    },
    {
      "cell_type": "code",
      "execution_count": 120,
      "metadata": {
        "colab": {
          "base_uri": "https://localhost:8080/"
        },
        "id": "xLKXo9sAejPk",
        "outputId": "e5220fb4-99c3-4147-e906-b2069d7b0320"
      },
      "outputs": [
        {
          "name": "stdout",
          "output_type": "stream",
          "text": [
            "No duplicate rows found in the DataFrame.\n"
          ]
        }
      ],
      "source": [
        "# Now lets check to see if there are any duplicate rows\n",
        "\n",
        "has_duplicates = df.duplicated().any()\n",
        "\n",
        "if has_duplicates:\n",
        "    print(\"There are duplicate rows in the DataFrame.\")\n",
        "else:\n",
        "    print(\"No duplicate rows found in the DataFrame.\")"
      ]
    },
    {
      "cell_type": "code",
      "execution_count": 121,
      "metadata": {
        "id": "m2G10qniUWke"
      },
      "outputs": [],
      "source": [
        "# Earlier I saw a column that was redundant. \n",
        "# This removes the column we don't need for our analysis \n",
        "\n",
        "df = df.drop(columns ='Unnamed: 0')\n"
      ]
    },
    {
      "cell_type": "code",
      "execution_count": 122,
      "metadata": {
        "colab": {
          "base_uri": "https://localhost:8080/",
          "height": 342
        },
        "id": "f_DGPss3WtBJ",
        "outputId": "db1c9973-6800-461b-cfc6-f354cb31a897"
      },
      "outputs": [
        {
          "data": {
            "text/html": [
              "<div>\n",
              "<style scoped>\n",
              "    .dataframe tbody tr th:only-of-type {\n",
              "        vertical-align: middle;\n",
              "    }\n",
              "\n",
              "    .dataframe tbody tr th {\n",
              "        vertical-align: top;\n",
              "    }\n",
              "\n",
              "    .dataframe thead th {\n",
              "        text-align: right;\n",
              "    }\n",
              "</style>\n",
              "<table border=\"1\" class=\"dataframe\">\n",
              "  <thead>\n",
              "    <tr style=\"text-align: right;\">\n",
              "      <th></th>\n",
              "      <th>player_name</th>\n",
              "      <th>team_abbreviation</th>\n",
              "      <th>age</th>\n",
              "      <th>player_height</th>\n",
              "      <th>player_weight</th>\n",
              "      <th>college</th>\n",
              "      <th>country</th>\n",
              "      <th>draft_year</th>\n",
              "      <th>draft_round</th>\n",
              "      <th>draft_number</th>\n",
              "      <th>...</th>\n",
              "      <th>pts</th>\n",
              "      <th>reb</th>\n",
              "      <th>ast</th>\n",
              "      <th>net_rating</th>\n",
              "      <th>oreb_pct</th>\n",
              "      <th>dreb_pct</th>\n",
              "      <th>usg_pct</th>\n",
              "      <th>ts_pct</th>\n",
              "      <th>ast_pct</th>\n",
              "      <th>season</th>\n",
              "    </tr>\n",
              "  </thead>\n",
              "  <tbody>\n",
              "    <tr>\n",
              "      <th>0</th>\n",
              "      <td>Randy Livingston</td>\n",
              "      <td>HOU</td>\n",
              "      <td>22.0</td>\n",
              "      <td>193.04</td>\n",
              "      <td>94.800728</td>\n",
              "      <td>Louisiana State</td>\n",
              "      <td>USA</td>\n",
              "      <td>1996</td>\n",
              "      <td>2</td>\n",
              "      <td>42</td>\n",
              "      <td>...</td>\n",
              "      <td>3.9</td>\n",
              "      <td>1.5</td>\n",
              "      <td>2.4</td>\n",
              "      <td>0.3</td>\n",
              "      <td>0.042</td>\n",
              "      <td>0.071</td>\n",
              "      <td>0.169</td>\n",
              "      <td>0.487</td>\n",
              "      <td>0.248</td>\n",
              "      <td>1996-97</td>\n",
              "    </tr>\n",
              "    <tr>\n",
              "      <th>1</th>\n",
              "      <td>Gaylon Nickerson</td>\n",
              "      <td>WAS</td>\n",
              "      <td>28.0</td>\n",
              "      <td>190.50</td>\n",
              "      <td>86.182480</td>\n",
              "      <td>Northwestern Oklahoma</td>\n",
              "      <td>USA</td>\n",
              "      <td>1994</td>\n",
              "      <td>2</td>\n",
              "      <td>34</td>\n",
              "      <td>...</td>\n",
              "      <td>3.8</td>\n",
              "      <td>1.3</td>\n",
              "      <td>0.3</td>\n",
              "      <td>8.9</td>\n",
              "      <td>0.030</td>\n",
              "      <td>0.111</td>\n",
              "      <td>0.174</td>\n",
              "      <td>0.497</td>\n",
              "      <td>0.043</td>\n",
              "      <td>1996-97</td>\n",
              "    </tr>\n",
              "    <tr>\n",
              "      <th>2</th>\n",
              "      <td>George Lynch</td>\n",
              "      <td>VAN</td>\n",
              "      <td>26.0</td>\n",
              "      <td>203.20</td>\n",
              "      <td>103.418976</td>\n",
              "      <td>North Carolina</td>\n",
              "      <td>USA</td>\n",
              "      <td>1993</td>\n",
              "      <td>1</td>\n",
              "      <td>12</td>\n",
              "      <td>...</td>\n",
              "      <td>8.3</td>\n",
              "      <td>6.4</td>\n",
              "      <td>1.9</td>\n",
              "      <td>-8.2</td>\n",
              "      <td>0.106</td>\n",
              "      <td>0.185</td>\n",
              "      <td>0.175</td>\n",
              "      <td>0.512</td>\n",
              "      <td>0.125</td>\n",
              "      <td>1996-97</td>\n",
              "    </tr>\n",
              "    <tr>\n",
              "      <th>3</th>\n",
              "      <td>George McCloud</td>\n",
              "      <td>LAL</td>\n",
              "      <td>30.0</td>\n",
              "      <td>203.20</td>\n",
              "      <td>102.058200</td>\n",
              "      <td>Florida State</td>\n",
              "      <td>USA</td>\n",
              "      <td>1989</td>\n",
              "      <td>1</td>\n",
              "      <td>7</td>\n",
              "      <td>...</td>\n",
              "      <td>10.2</td>\n",
              "      <td>2.8</td>\n",
              "      <td>1.7</td>\n",
              "      <td>-2.7</td>\n",
              "      <td>0.027</td>\n",
              "      <td>0.111</td>\n",
              "      <td>0.206</td>\n",
              "      <td>0.527</td>\n",
              "      <td>0.125</td>\n",
              "      <td>1996-97</td>\n",
              "    </tr>\n",
              "    <tr>\n",
              "      <th>4</th>\n",
              "      <td>George Zidek</td>\n",
              "      <td>DEN</td>\n",
              "      <td>23.0</td>\n",
              "      <td>213.36</td>\n",
              "      <td>119.748288</td>\n",
              "      <td>UCLA</td>\n",
              "      <td>USA</td>\n",
              "      <td>1995</td>\n",
              "      <td>1</td>\n",
              "      <td>22</td>\n",
              "      <td>...</td>\n",
              "      <td>2.8</td>\n",
              "      <td>1.7</td>\n",
              "      <td>0.3</td>\n",
              "      <td>-14.1</td>\n",
              "      <td>0.102</td>\n",
              "      <td>0.169</td>\n",
              "      <td>0.195</td>\n",
              "      <td>0.500</td>\n",
              "      <td>0.064</td>\n",
              "      <td>1996-97</td>\n",
              "    </tr>\n",
              "  </tbody>\n",
              "</table>\n",
              "<p>5 rows × 21 columns</p>\n",
              "</div>"
            ],
            "text/plain": [
              "        player_name team_abbreviation   age  player_height  player_weight  \\\n",
              "0  Randy Livingston               HOU  22.0         193.04      94.800728   \n",
              "1  Gaylon Nickerson               WAS  28.0         190.50      86.182480   \n",
              "2      George Lynch               VAN  26.0         203.20     103.418976   \n",
              "3    George McCloud               LAL  30.0         203.20     102.058200   \n",
              "4      George Zidek               DEN  23.0         213.36     119.748288   \n",
              "\n",
              "                 college country draft_year draft_round draft_number  ...  \\\n",
              "0        Louisiana State     USA       1996           2           42  ...   \n",
              "1  Northwestern Oklahoma     USA       1994           2           34  ...   \n",
              "2         North Carolina     USA       1993           1           12  ...   \n",
              "3          Florida State     USA       1989           1            7  ...   \n",
              "4                   UCLA     USA       1995           1           22  ...   \n",
              "\n",
              "    pts  reb  ast  net_rating  oreb_pct  dreb_pct  usg_pct  ts_pct  ast_pct  \\\n",
              "0   3.9  1.5  2.4         0.3     0.042     0.071    0.169   0.487    0.248   \n",
              "1   3.8  1.3  0.3         8.9     0.030     0.111    0.174   0.497    0.043   \n",
              "2   8.3  6.4  1.9        -8.2     0.106     0.185    0.175   0.512    0.125   \n",
              "3  10.2  2.8  1.7        -2.7     0.027     0.111    0.206   0.527    0.125   \n",
              "4   2.8  1.7  0.3       -14.1     0.102     0.169    0.195   0.500    0.064   \n",
              "\n",
              "    season  \n",
              "0  1996-97  \n",
              "1  1996-97  \n",
              "2  1996-97  \n",
              "3  1996-97  \n",
              "4  1996-97  \n",
              "\n",
              "[5 rows x 21 columns]"
            ]
          },
          "execution_count": 122,
          "metadata": {},
          "output_type": "execute_result"
        }
      ],
      "source": [
        "# Let's confirming 'Unnamed: 0' column actually got dropped\n",
        "df.head()"
      ]
    },
    {
      "cell_type": "markdown",
      "metadata": {},
      "source": [
        "Perfect. Time to move on. "
      ]
    },
    {
      "cell_type": "code",
      "execution_count": 123,
      "metadata": {
        "colab": {
          "base_uri": "https://localhost:8080/"
        },
        "id": "rZS2hgvFkVhQ",
        "outputId": "be217f4c-b672-4671-dad8-8448f9145fa4"
      },
      "outputs": [
        {
          "data": {
            "text/plain": [
              "player_name             0\n",
              "team_abbreviation       0\n",
              "age                     0\n",
              "player_height           0\n",
              "player_weight           0\n",
              "college              1854\n",
              "country                 0\n",
              "draft_year              0\n",
              "draft_round             0\n",
              "draft_number            0\n",
              "gp                      0\n",
              "pts                     0\n",
              "reb                     0\n",
              "ast                     0\n",
              "net_rating              0\n",
              "oreb_pct                0\n",
              "dreb_pct                0\n",
              "usg_pct                 0\n",
              "ts_pct                  0\n",
              "ast_pct                 0\n",
              "season                  0\n",
              "dtype: int64"
            ]
          },
          "execution_count": 123,
          "metadata": {},
          "output_type": "execute_result"
        }
      ],
      "source": [
        "# Now I am checking to see if there are any missing values in each column\n",
        "df.isnull().sum()"
      ]
    },
    {
      "cell_type": "markdown",
      "metadata": {},
      "source": [
        "It appears that most of our dataset is not null, with the exception of the College column. This could indicate that there are NBA players that either didn't go to school or just has missing data. "
      ]
    },
    {
      "cell_type": "code",
      "execution_count": 129,
      "metadata": {
        "colab": {
          "base_uri": "https://localhost:8080/"
        },
        "id": "tT2nHNuq1T80",
        "outputId": "aadf82be-4644-4797-82d1-310074fb400f"
      },
      "outputs": [],
      "source": [
        "\n",
        "# Converting player_weight to be in lbs instead of kg\n",
        "# Only run this cell once or else the weight will continue to get multiplied. \n",
        "\n",
        "df['player_weight_lbs'] = df['player_weight_lbs'] * 2.20462\n",
        "df['player_weight_lbs'] = df['player_weight_lbs'].round(2)\n"
      ]
    },
    {
      "cell_type": "code",
      "execution_count": 127,
      "metadata": {
        "colab": {
          "base_uri": "https://localhost:8080/"
        },
        "id": "8d3--bF5IYjl",
        "outputId": "3ce3955f-522d-4d0a-fc98-c06d35b65da6"
      },
      "outputs": [],
      "source": [
        "# Since I converted the weight from kg to lbs I renamed the columns for accuracy.\n",
        "\n",
        "df = df.rename(columns={\n",
        "    'player_height':'player_height_cm', \n",
        "    'player_weight':'player_weight_lbs', \n",
        "    'gp':'games_played'})"
      ]
    },
    {
      "cell_type": "code",
      "execution_count": 131,
      "metadata": {},
      "outputs": [
        {
          "data": {
            "text/html": [
              "<div>\n",
              "<style scoped>\n",
              "    .dataframe tbody tr th:only-of-type {\n",
              "        vertical-align: middle;\n",
              "    }\n",
              "\n",
              "    .dataframe tbody tr th {\n",
              "        vertical-align: top;\n",
              "    }\n",
              "\n",
              "    .dataframe thead th {\n",
              "        text-align: right;\n",
              "    }\n",
              "</style>\n",
              "<table border=\"1\" class=\"dataframe\">\n",
              "  <thead>\n",
              "    <tr style=\"text-align: right;\">\n",
              "      <th></th>\n",
              "      <th>player_weight_lbs</th>\n",
              "    </tr>\n",
              "  </thead>\n",
              "  <tbody>\n",
              "    <tr>\n",
              "      <th>0</th>\n",
              "      <td>209.0</td>\n",
              "    </tr>\n",
              "    <tr>\n",
              "      <th>1</th>\n",
              "      <td>190.0</td>\n",
              "    </tr>\n",
              "    <tr>\n",
              "      <th>2</th>\n",
              "      <td>228.0</td>\n",
              "    </tr>\n",
              "    <tr>\n",
              "      <th>3</th>\n",
              "      <td>225.0</td>\n",
              "    </tr>\n",
              "    <tr>\n",
              "      <th>4</th>\n",
              "      <td>264.0</td>\n",
              "    </tr>\n",
              "    <tr>\n",
              "      <th>...</th>\n",
              "      <td>...</td>\n",
              "    </tr>\n",
              "    <tr>\n",
              "      <th>12839</th>\n",
              "      <td>280.0</td>\n",
              "    </tr>\n",
              "    <tr>\n",
              "      <th>12840</th>\n",
              "      <td>190.0</td>\n",
              "    </tr>\n",
              "    <tr>\n",
              "      <th>12841</th>\n",
              "      <td>226.0</td>\n",
              "    </tr>\n",
              "    <tr>\n",
              "      <th>12842</th>\n",
              "      <td>250.0</td>\n",
              "    </tr>\n",
              "    <tr>\n",
              "      <th>12843</th>\n",
              "      <td>227.0</td>\n",
              "    </tr>\n",
              "  </tbody>\n",
              "</table>\n",
              "<p>12844 rows × 1 columns</p>\n",
              "</div>"
            ],
            "text/plain": [
              "       player_weight_lbs\n",
              "0                  209.0\n",
              "1                  190.0\n",
              "2                  228.0\n",
              "3                  225.0\n",
              "4                  264.0\n",
              "...                  ...\n",
              "12839              280.0\n",
              "12840              190.0\n",
              "12841              226.0\n",
              "12842              250.0\n",
              "12843              227.0\n",
              "\n",
              "[12844 rows x 1 columns]"
            ]
          },
          "execution_count": 131,
          "metadata": {},
          "output_type": "execute_result"
        }
      ],
      "source": [
        "# Let's confirm the conversion and column rename\n",
        "df[['player_weight_lbs']]"
      ]
    },
    {
      "cell_type": "markdown",
      "metadata": {},
      "source": [
        "Great! Now let's move on."
      ]
    },
    {
      "cell_type": "markdown",
      "metadata": {},
      "source": [
        "Great, the column rename worked. "
      ]
    },
    {
      "cell_type": "code",
      "execution_count": 132,
      "metadata": {
        "id": "EUVxdU8Bp2y-"
      },
      "outputs": [],
      "source": [
        "# Earlier we saw that several columns were of type object. Let's convert those to a number type\n",
        "\n",
        "df['draft_year'] = df['draft_year'].replace('Undrafted', np.nan)\n",
        "df['draft_year'] = pd.to_numeric(df['draft_year'])\n",
        "\n",
        "df['draft_round'] = df['draft_round'].replace('Undrafted', np.nan)\n",
        "df['draft_round'] = pd.to_numeric(df['draft_round'])\n",
        "\n",
        "df['draft_number'] = df['draft_number'].replace('Undrafted', np.nan)\n",
        "df['draft_number'] = pd.to_numeric(df['draft_number'])"
      ]
    },
    {
      "cell_type": "code",
      "execution_count": 134,
      "metadata": {},
      "outputs": [
        {
          "data": {
            "text/plain": [
              "draft_year      float64\n",
              "draft_round     float64\n",
              "draft_number    float64\n",
              "dtype: object"
            ]
          },
          "execution_count": 134,
          "metadata": {},
          "output_type": "execute_result"
        }
      ],
      "source": [
        "# Now let's confirm the conversion actually happened\n",
        "df[['draft_year','draft_round','draft_number']].dtypes"
      ]
    },
    {
      "cell_type": "markdown",
      "metadata": {},
      "source": [
        "Excellent! The conversion worked. Now our data is in a format where we can run some analysis. "
      ]
    },
    {
      "cell_type": "code",
      "execution_count": null,
      "metadata": {
        "id": "OM1oY7Z3rPvi"
      },
      "outputs": [],
      "source": [
        "'''\n",
        "This code block is code is helper function that converts the non-numeric value 'Undrafted' to np.nan for\n",
        "the columns draft_year, draft_round, and draft_number\n",
        "\n",
        "'''\n",
        "\n",
        "def object_to_number_conversion(df):\n",
        "    for column in df.columns:\n",
        "        # Check if the column type is object (string)\n",
        "        if df[column].dtype == 'object':\n",
        "            # Attempt to convert the column to numeric type, forcing non-convertible strings to NaN\n",
        "            df[column] = pd.to_numeric(df[column], errors='coerce')\n",
        "    return df\n"
      ]
    },
    {
      "cell_type": "code",
      "execution_count": null,
      "metadata": {
        "colab": {
          "base_uri": "https://localhost:8080/"
        },
        "id": "KjYDgoDSMAo9",
        "outputId": "ff4d0ed8-0c1b-4723-c47d-f38d546fcea0"
      },
      "outputs": [],
      "source": [
        "# Double check that the columns got converted to a numeric datatype\n",
        "df.dtypes"
      ]
    },
    {
      "cell_type": "code",
      "execution_count": null,
      "metadata": {
        "colab": {
          "base_uri": "https://localhost:8080/"
        },
        "id": "WQq4raUE4lNL",
        "outputId": "d3735590-095e-4611-f81d-de6e2508ab5c"
      },
      "outputs": [],
      "source": [
        "'''\n",
        "\n",
        "df['season'] is an Object datatype which isn't very useful.\n",
        "I will duplicate the column and create a categories datatype and a period datatype\n",
        "Categorical and Period datatypes each have their own benefits for analysis which is why I am doing this.\n",
        "\n",
        "chatGPT helped me make these conversions\n",
        "\n",
        "'''\n",
        "\n",
        "# Step 1: The original 'season' column remains unchanged.\n",
        "\n",
        "# Step 2: Duplicate the 'season' column as categorical datatype\n",
        "df['season_categorical'] = df['season'].astype('category')\n",
        "\n",
        "# Step 3: Duplicate the 'season' column as period datatype\n",
        "    # Convert the season to a period datatype, assuming the format is 'YYYY-YY' and using the starting year.\n",
        "    # Note: Pandas Periods require a specific frequency, so we'll use 'A' (annual) frequency here,\n",
        "    # assuming the season roughly corresponds to a single year.\n",
        "df['season_period'] = df['season'].apply(lambda x: pd.Period(x.split('-')[0], 'A'))\n",
        "\n",
        "# Display the data types of the new columns to verify\n",
        "df.dtypes[['season', 'season_categorical', 'season_period']]\n"
      ]
    },
    {
      "cell_type": "code",
      "execution_count": null,
      "metadata": {
        "colab": {
          "base_uri": "https://localhost:8080/",
          "height": 176
        },
        "id": "iaGpoUhlYUDj",
        "outputId": "fa7cbdb6-260a-40df-f519-84fac402fb17"
      },
      "outputs": [],
      "source": [
        "# For time's sake I am just going to focus on analyzing the 2021-22 season\n",
        "# saving the filtered Dataframe in variable df_2021-22\n",
        "\n",
        "df_2021_22 = df[df['season'] == '2021-22']\n",
        "df_2021_22.describe().T"
      ]
    },
    {
      "cell_type": "code",
      "execution_count": null,
      "metadata": {},
      "outputs": [],
      "source": [
        "# Export of the cleaned up df\n",
        "\n",
        "df_2021_22.to_csv('data/nba_season_2021_2022.csv')"
      ]
    },
    {
      "cell_type": "code",
      "execution_count": null,
      "metadata": {
        "colab": {
          "base_uri": "https://localhost:8080/",
          "height": 445
        },
        "id": "FCQBPbapQYn2",
        "outputId": "183fad5f-e7b9-4806-82cc-10e31bb9d2ec"
      },
      "outputs": [],
      "source": [
        "# Now that we are just working with the 2021-22 season, lets see some distribution of the data\n",
        "\n",
        "plt.figure(figsize=(8, 5))\n",
        "plt.boxplot(df_2021_22.pts)\n",
        "plt.show()"
      ]
    },
    {
      "cell_type": "code",
      "execution_count": null,
      "metadata": {},
      "outputs": [],
      "source": [
        "'''\n",
        "Using one of your plots from last week, customize it using the techniques presented in this week's class. \n",
        "Share a before and after image. \n",
        "\n",
        "1. What did you change?\n",
        "    a. Boxplots to include every NBA team for the 2021-22 season\n",
        "    b. Team abbreviations for each box plot\n",
        "    c. Color palette\n",
        "2. Why did you change it?\n",
        "    I decided to change my box plot because my original plot was bland, nondescriptive, and showed the point distribution for all the teams instead of each team.\n",
        "    By adding descriptors one could more easily see what they are viewing.  \n",
        "\n",
        "'''\n",
        "plt.figure(figsize=(12, 6))\n",
        "sns.boxplot(\n",
        "    data=df_2021_22, \n",
        "    x = 'team_abbreviation',\n",
        "    y = 'pts', \n",
        "    palette='viridis')  # Using a nice color palette\n",
        "plt.xticks(rotation=45)\n",
        "plt.title(\"Distribution of Points in 2021-22 by team\") \n",
        "plt.show()\n"
      ]
    },
    {
      "cell_type": "code",
      "execution_count": null,
      "metadata": {
        "colab": {
          "base_uri": "https://localhost:8080/",
          "height": 487
        },
        "id": "3M5OFGF4RBO1",
        "outputId": "5c189ce0-38ea-4a1a-9b64-e09b15e664e2"
      },
      "outputs": [],
      "source": [
        "# Now lets do a histogram\n",
        "plt.figure(figsize=(8,5))\n",
        "plt.hist(df_2021_22.pts)\n",
        "plt.xlabel('Points')\n",
        "plt.ylabel('Frequency')\n",
        "plt.title('2021-22 Points Distribution')\n",
        "plt.show()"
      ]
    },
    {
      "cell_type": "code",
      "execution_count": null,
      "metadata": {},
      "outputs": [],
      "source": [
        "# Plotting Kernel density plot for another perspective on the distribution of pts data\n",
        "\n",
        "sns.kdeplot(data=df_2021_22, x=\"pts\", fill=True)  # Add 'fill=True' for filled area\n",
        "plt.xlabel('Points Scored')\n",
        "plt.ylabel('Density')\n",
        "plt.title('Density Plot of Points Distribution')\n",
        "plt.show()"
      ]
    },
    {
      "cell_type": "code",
      "execution_count": null,
      "metadata": {},
      "outputs": [],
      "source": [
        "#df_2021_22.info()\n",
        "numeric_df = df.select_dtypes(include=['float64', 'int64'])\n",
        "numeric_df.info()\n"
      ]
    },
    {
      "cell_type": "code",
      "execution_count": null,
      "metadata": {},
      "outputs": [],
      "source": [
        "# Adding correlation plot\n",
        "# -1 = negative correlation (red)\n",
        "# 1 = positive correlation (blue)\n",
        "\n",
        "plt.figure(figsize=(10, 10)) # increased plot size for better visibility \n",
        "sns.heatmap(numeric_df.corr(), annot=True, cmap='RdBu', vmin=-1, vmax=1) \n",
        "plt.show()"
      ]
    },
    {
      "cell_type": "markdown",
      "metadata": {},
      "source": [
        "## Exploring Relationships Between Columns\n"
      ]
    },
    {
      "cell_type": "markdown",
      "metadata": {},
      "source": [
        "### Player Height vs. Points Scored (Numerical to Numerical Analysis)"
      ]
    },
    {
      "cell_type": "code",
      "execution_count": null,
      "metadata": {
        "colab": {
          "base_uri": "https://localhost:8080/",
          "height": 193
        },
        "id": "MzZs6FdiSwRB",
        "outputId": "2f74a312-9380-420f-c288-ef595454d149"
      },
      "outputs": [],
      "source": [
        "# Exploring Relationships Between Columns\n",
        "'''\n",
        "I am curious to see relationship between player height and\n",
        "points scored using a scatter plot and calculating the Pearson correlation coefficient.\n",
        "\n",
        "'''\n",
        "# Player Height vs. Points Scored (Numerical to Numerical Analysis)\n",
        "\n",
        "# Calculating Pearson correlation coefficient between 'player_height_cm' and 'pts'\n",
        "correlation_height_pts = df_2021_22['player_height_cm'].corr(df_2021_22['pts'])\n",
        "correlation_height_pts"
      ]
    },
    {
      "cell_type": "code",
      "execution_count": null,
      "metadata": {
        "id": "50P5hO7PMOiL"
      },
      "outputs": [],
      "source": [
        "# The correlation coefficient suggests that there is no strong correlation between \n",
        "# player_heights and pts"
      ]
    },
    {
      "cell_type": "code",
      "execution_count": null,
      "metadata": {},
      "outputs": [],
      "source": [
        "# Now lets create a scatter plot to visualize the relationship between player height and points scored\n",
        "plt.figure(figsize=(8, 5))\n",
        "plt.scatter(df_2021_22['player_height_cm'], df_2021_22['pts'], alpha=0.2)\n",
        "plt.title('Player Height vs. Points Scored (2021-22 Season)')\n",
        "plt.xlabel('Player Height (cm)')\n",
        "plt.ylabel('Points Scored')\n",
        "plt.grid(True)\n",
        "plt.show()\n",
        "\n",
        "print(\"Correlation coefficient:\", correlation_height_pts)"
      ]
    },
    {
      "cell_type": "markdown",
      "metadata": {},
      "source": [
        "## Calculating average points scored by draft round\n"
      ]
    },
    {
      "cell_type": "code",
      "execution_count": null,
      "metadata": {},
      "outputs": [],
      "source": [
        "# I still need to research this code to understand how and what it does\n",
        "\n",
        "# Calculating average points scored by draft round\n",
        "avg_pts_by_draft_round = df_2021_22.groupby('draft_round')['pts'].mean().reset_index()\n",
        "\n",
        "# Creating a bar chart to visualize the average points scored by draft round\n",
        "plt.figure(figsize=(8, 5))\n",
        "plt.bar(avg_pts_by_draft_round['draft_round'].astype(str), avg_pts_by_draft_round['pts'], color='skyblue')\n",
        "plt.title('Average Points Scored by Draft Round (2021-22 Season)')\n",
        "plt.xlabel('Draft Round')\n",
        "plt.ylabel('Average Points Scored')\n",
        "plt.xticks(rotation=45)\n",
        "plt.grid(axis='y')\n",
        "plt.show()\n",
        "\n",
        "# Display the average points scored by draft round\n",
        "print(avg_pts_by_draft_round)"
      ]
    }
  ],
  "metadata": {
    "colab": {
      "provenance": []
    },
    "kernelspec": {
      "display_name": "Python 3",
      "name": "python3"
    },
    "language_info": {
      "codemirror_mode": {
        "name": "ipython",
        "version": 3
      },
      "file_extension": ".py",
      "mimetype": "text/x-python",
      "name": "python",
      "nbconvert_exporter": "python",
      "pygments_lexer": "ipython3",
      "version": "3.11.5"
    }
  },
  "nbformat": 4,
  "nbformat_minor": 0
}
