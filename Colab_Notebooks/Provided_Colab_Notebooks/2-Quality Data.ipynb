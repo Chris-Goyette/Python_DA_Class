{
 "cells": [
  {
   "cell_type": "code",
   "execution_count": null,
   "metadata": {},
   "outputs": [],
   "source": [
    "%matplotlib inline\n",
    "import fancyimpute\n",
    "import matplotlib.pyplot as plt\n",
    "import missingno as mn\n",
    "import numpy as np\n",
    "import pandas as pd\n",
    "\n",
    "import io\n",
    "import urllib.request as req\n",
    "import zipfile"
   ]
  },
  {
   "cell_type": "code",
   "execution_count": null,
   "metadata": {},
   "outputs": [],
   "source": [
    "# https://www.kaggle.com/kaggle/kaggle-survey-2018\n",
    "url = 'https://github.com/mattharrison/datasets/raw/master/data/kaggle-survey-2018.zip'\n",
    "fin = req.urlopen(url)\n",
    "\n",
    "with zipfile.ZipFile(io.BytesIO(fin.read())) as z:\n",
    "    print(z.namelist())\n",
    "    kag = pd.read_csv(z.open('multipleChoiceResponses.csv'))\n",
    "    kag_questions = kag.iloc[0]\n",
    "    df = kag.iloc[1:]"
   ]
  },
  {
   "cell_type": "code",
   "execution_count": null,
   "metadata": {},
   "outputs": [],
   "source": [
    "df"
   ]
  },
  {
   "cell_type": "code",
   "execution_count": null,
   "metadata": {},
   "outputs": [],
   "source": [
    "df.dtypes"
   ]
  },
  {
   "cell_type": "code",
   "execution_count": null,
   "metadata": {},
   "outputs": [],
   "source": [
    "# Missing values\n",
    "df.isna()"
   ]
  },
  {
   "cell_type": "code",
   "execution_count": null,
   "metadata": {},
   "outputs": [],
   "source": [
    "df.isna().sum()"
   ]
  },
  {
   "cell_type": "code",
   "execution_count": null,
   "metadata": {},
   "outputs": [],
   "source": [
    "df.isna().mean() * 100"
   ]
  },
  {
   "cell_type": "code",
   "execution_count": null,
   "metadata": {},
   "outputs": [],
   "source": [
    "mn.matrix(df)"
   ]
  },
  {
   "cell_type": "code",
   "execution_count": null,
   "metadata": {},
   "outputs": [],
   "source": [
    "mn.matrix(df.iloc[:250,:14])"
   ]
  },
  {
   "cell_type": "code",
   "execution_count": null,
   "metadata": {},
   "outputs": [],
   "source": [
    "# options for missing values\n",
    "# .dropna()\n",
    "# .fillna(val)\n",
    "# .col.interpolate()  [For numeric]"
   ]
  },
  {
   "cell_type": "code",
   "execution_count": null,
   "metadata": {},
   "outputs": [],
   "source": [
    "# use .value_counts to inspect object type data\n",
    "df.Q1.value_counts(dropna=False)"
   ]
  },
  {
   "cell_type": "code",
   "execution_count": null,
   "metadata": {},
   "outputs": [],
   "source": [
    "df.Q1.replace({'Prefer not to say': 'Other',\n",
    "               'Prefer to self-describe': 'Other'}).value_counts()"
   ]
  },
  {
   "cell_type": "code",
   "execution_count": null,
   "metadata": {},
   "outputs": [],
   "source": [
    "# Eventually will use get_dummies when applying ML\n",
    "pd.get_dummies((df.Q1\n",
    "  .replace({'Prefer not to say': 'Another',\n",
    "               'Prefer to self-describe': 'Another'})\n",
    "), drop_first=True)"
   ]
  },
  {
   "cell_type": "code",
   "execution_count": null,
   "metadata": {},
   "outputs": [],
   "source": [
    "df.Q2"
   ]
  },
  {
   "cell_type": "code",
   "execution_count": null,
   "metadata": {},
   "outputs": [],
   "source": [
    "df.Q2.value_counts(dropna=False)"
   ]
  },
  {
   "cell_type": "code",
   "execution_count": null,
   "metadata": {},
   "outputs": [],
   "source": [
    "df.Q2.str.slice(0,2)"
   ]
  },
  {
   "cell_type": "code",
   "execution_count": null,
   "metadata": {},
   "outputs": [],
   "source": [
    "df.Q2.str.slice(0,2).astype(int).rename('Q2_age')"
   ]
  },
  {
   "cell_type": "code",
   "execution_count": null,
   "metadata": {},
   "outputs": [],
   "source": [
    "# Look at age distributions\n",
    "df.Q2.str.slice(0,2).astype(int).rename('Q2_age').value_counts()"
   ]
  },
  {
   "cell_type": "code",
   "execution_count": null,
   "metadata": {},
   "outputs": [],
   "source": [
    "df.Q3.value_counts(dropna=False)"
   ]
  },
  {
   "cell_type": "code",
   "execution_count": null,
   "metadata": {},
   "outputs": [],
   "source": [
    "def limit_countries(val):\n",
    "    if val in  {'United States of America', 'India', 'China'}:\n",
    "        return val\n",
    "    return 'Another'\n",
    "df.Q3.apply(limit_countries)"
   ]
  },
  {
   "cell_type": "code",
   "execution_count": null,
   "metadata": {},
   "outputs": [],
   "source": [
    "df.Q4.value_counts(dropna=False)"
   ]
  },
  {
   "cell_type": "code",
   "execution_count": null,
   "metadata": {},
   "outputs": [],
   "source": [
    "(df.Q4\n",
    " .replace({'Master’s degree': 18,\n",
    " 'Bachelor’s degree': 16,\n",
    " 'Doctoral degree': 20,\n",
    " 'Some college/university study without earning a bachelor’s degree': 13,\n",
    " 'Professional degree': 19,\n",
    " 'I prefer not to answer': None,\n",
    " 'No formal education past high school': 12})\n",
    " .fillna(11)\n",
    " .rename('Q4_edu')\n",
    ")"
   ]
  },
  {
   "cell_type": "code",
   "execution_count": null,
   "metadata": {},
   "outputs": [],
   "source": [
    "(df.Q4\n",
    " .replace({'Master’s degree': 18,\n",
    " 'Bachelor’s degree': 16,\n",
    " 'Doctoral degree': 20,\n",
    " 'Some college/university study without earning a bachelor’s degree': 13,\n",
    " 'Professional degree': 19,\n",
    " 'I prefer not to answer': None,\n",
    " 'No formal education past high school': 12})\n",
    " .fillna(11)\n",
    " .rename('Q4_edu')\n",
    ").value_counts()"
   ]
  },
  {
   "cell_type": "code",
   "execution_count": null,
   "metadata": {},
   "outputs": [],
   "source": [
    "(df.Q4\n",
    " .replace({'Master’s degree': 18,\n",
    " 'Bachelor’s degree': 16,\n",
    " 'Doctoral degree': 20,\n",
    " 'Some college/university study without earning a bachelor’s degree': 13,\n",
    " 'Professional degree': 19,\n",
    " 'I prefer not to answer': None,\n",
    " 'No formal education past high school': 12})\n",
    " .fillna(11)\n",
    " .rename('Q4_edu')\n",
    ").hist()"
   ]
  },
  {
   "cell_type": "code",
   "execution_count": null,
   "metadata": {},
   "outputs": [],
   "source": [
    "df.Q5.value_counts()"
   ]
  },
  {
   "cell_type": "code",
   "execution_count": null,
   "metadata": {},
   "outputs": [],
   "source": [
    "def only_cs_stat_val(val):\n",
    "    if val not in {'cs', 'eng', 'stat'}:\n",
    "        return 'other'\n",
    "    return val\n",
    "\n",
    "(df.Q5.replace({\n",
    "        'Computer science (software engineering, etc.)': 'cs',\n",
    "        'Engineering (non-computer focused)': 'eng',\n",
    "        'Mathematics or statistics': 'stat'})\n",
    " .apply(only_cs_stat_val))"
   ]
  },
  {
   "cell_type": "code",
   "execution_count": null,
   "metadata": {},
   "outputs": [],
   "source": [
    "def only_cs_stat_val(val):\n",
    "    if val not in {'cs', 'eng', 'stat'}:\n",
    "        return 'other'\n",
    "    return val\n",
    "\n",
    "(df.Q5.replace({\n",
    "        'Computer science (software engineering, etc.)': 'cs',\n",
    "        'Engineering (non-computer focused)': 'eng',\n",
    "        'Mathematics or statistics': 'stat'})\n",
    " .apply(only_cs_stat_val)).value_counts()"
   ]
  },
  {
   "cell_type": "code",
   "execution_count": null,
   "metadata": {},
   "outputs": [],
   "source": [
    "df.Q6.value_counts()"
   ]
  },
  {
   "cell_type": "code",
   "execution_count": null,
   "metadata": {},
   "outputs": [],
   "source": [
    "def limit_occupation(val):\n",
    "    if val in {'Student', 'Data Scientist', 'Software Engineer', 'Not employed',\n",
    "              'Data Engineer'}:\n",
    "        return val\n",
    "    return 'Another'\n",
    "\n",
    "df.Q6.apply(limit_occupation).value_counts()"
   ]
  },
  {
   "cell_type": "code",
   "execution_count": null,
   "metadata": {},
   "outputs": [],
   "source": [
    "# Years experience\n",
    "df.Q8.value_counts(dropna=False)"
   ]
  },
  {
   "cell_type": "code",
   "execution_count": null,
   "metadata": {},
   "outputs": [],
   "source": [
    "(df.Q8\n",
    "  .str.replace('+', '')\n",
    "  .str.split('-', expand=True)\n",
    "  .iloc[:,0]\n",
    "  .fillna(-1)\n",
    "  .astype(int)\n",
    ").value_counts()"
   ]
  },
  {
   "cell_type": "code",
   "execution_count": null,
   "metadata": {},
   "outputs": [],
   "source": [
    "# Compensation\n",
    "df.Q9.value_counts(dropna=False)"
   ]
  },
  {
   "cell_type": "code",
   "execution_count": null,
   "metadata": {},
   "outputs": [],
   "source": [
    "na_mask = df.Q9.isna()\n",
    "hide_mask = df.Q9.str.startswith('I do not').fillna(False)\n",
    "df[na_mask | hide_mask].Q6.value_counts()"
   ]
  },
  {
   "cell_type": "code",
   "execution_count": null,
   "metadata": {},
   "outputs": [],
   "source": [
    "# Plan - remove missing numbers pull out first part\n",
    "na_mask = df.Q9.isna()\n",
    "hide_mask = df.Q9.str.startswith('I do not').fillna(False)\n",
    "(df.Q9\n",
    " [(~na_mask) & (~hide_mask)]\n",
    " .str.replace('+','')\n",
    " .str.replace(',','')\n",
    " .str.replace('500000', '500')\n",
    " .str.replace('I do not wish to disclose my approximate yearly compensation','')\n",
    " .str.split('-', expand=True)\n",
    " .iloc[:,0]\n",
    " .astype(int)\n",
    " .mul(1000)\n",
    " .rename('Q9_salary'))"
   ]
  },
  {
   "cell_type": "code",
   "execution_count": null,
   "metadata": {},
   "outputs": [],
   "source": [
    "def tweak_kag(df):\n",
    "    na_mask = df.Q9.isna()\n",
    "    hide_mask = df.Q9.str.startswith('I do not').fillna(False)\n",
    "    df = df[~na_mask & ~hide_mask]\n",
    "    \n",
    "    q1 = (df.Q1\n",
    "      .replace({'Prefer not to say': 'Another',\n",
    "               'Prefer to self-describe': 'Another'})\n",
    "      .rename('Gender')\n",
    "    )\n",
    "    q2 = df.Q2.str.slice(0,2).astype(int).rename('Age')\n",
    "    def limit_countries(val):\n",
    "        if val in  {'United States of America', 'India', 'China'}:\n",
    "            return val\n",
    "        return 'Another'\n",
    "    q3 = df.Q3.apply(limit_countries).rename('Country')\n",
    "   \n",
    "    q4 = (df.Q4\n",
    "     .replace({'Master’s degree': 18,\n",
    "     'Bachelor’s degree': 16,\n",
    "     'Doctoral degree': 20,\n",
    "     'Some college/university study without earning a bachelor’s degree': 13,\n",
    "     'Professional degree': 19,\n",
    "     'I prefer not to answer': None,\n",
    "     'No formal education past high school': 12})\n",
    "     .fillna(11)\n",
    "     .rename('Edu')\n",
    "    )\n",
    "    \n",
    "    def only_cs_stat_val(val):\n",
    "        if val not in {'cs', 'eng', 'stat'}:\n",
    "            return 'another'\n",
    "        return val\n",
    "\n",
    "    q5 = (df.Q5\n",
    "            .replace({\n",
    "                'Computer science (software engineering, etc.)': 'cs',\n",
    "                'Engineering (non-computer focused)': 'eng',\n",
    "                'Mathematics or statistics': 'stat'})\n",
    "             .apply(only_cs_stat_val)\n",
    "             .rename('Studies'))\n",
    "    def limit_occupation(val):\n",
    "        if val in {'Student', 'Data Scientist', 'Software Engineer', 'Not employed',\n",
    "                  'Data Engineer'}:\n",
    "            return val\n",
    "        return 'Another'\n",
    "\n",
    "    q6 = df.Q6.apply(limit_occupation).rename('Occupation')\n",
    "    \n",
    "    q8 = (df.Q8\n",
    "      .str.replace('+', '')\n",
    "      .str.split('-', expand=True)\n",
    "      .iloc[:,0]\n",
    "      .fillna(-1)\n",
    "      .astype(int)\n",
    "      .rename('Experience')\n",
    "    )\n",
    "    \n",
    "    q9 = (df.Q9\n",
    "     .str.replace('+','')\n",
    "     .str.replace(',','')\n",
    "     .str.replace('500000', '500')\n",
    "     .str.replace('I do not wish to disclose my approximate yearly compensation','')\n",
    "     .str.split('-', expand=True)\n",
    "     .iloc[:,0]\n",
    "     .astype(int)\n",
    "     .mul(1000)\n",
    "     .rename('Salary'))\n",
    "    return pd.concat([q1, q2, q3, q4, q5, q6, q8, q9], axis=1)\n",
    "\n",
    "tweak_kag(df)"
   ]
  }
 ],
 "metadata": {
  "jupytext": {
   "formats": "ipynb,py:light"
  },
  "kernelspec": {
   "display_name": "Python 3",
   "language": "python",
   "name": "python3"
  },
  "language_info": {
   "codemirror_mode": {
    "name": "ipython",
    "version": 3
   },
   "file_extension": ".py",
   "mimetype": "text/x-python",
   "name": "python",
   "nbconvert_exporter": "python",
   "pygments_lexer": "ipython3",
   "version": "3.6.4"
  }
 },
 "nbformat": 4,
 "nbformat_minor": 2
}
